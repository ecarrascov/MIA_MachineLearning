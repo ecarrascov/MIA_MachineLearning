{
 "cells": [
  {
   "cell_type": "markdown",
   "id": "afd0f184-d796-4b88-907c-8797e7a6790b",
   "metadata": {
    "tags": []
   },
   "source": [
    "## **Eduardo Carrasco Vidal** <img src=\"img/logo.png\" align=\"right\" style=\"width: 120px;\"/>\n",
    "**Magister en Inteligencia Artificial, Universidad Adolfo Ibáñez.**\n",
    "\n",
    "**Profesor:** Adrián Soto Suárez.\n",
    "**Curso:** Aprendizaje de Máquinas (Machine Learning).\n",
    "\n",
    "Enlace al repositorio del alumno en [GitHub](https://github.com/educarrascov/MIA_MachineLearning) _@educarrascov_\n",
    "\n",
    "![Python](https://img.shields.io/badge/python-%2314354C.svg) \n",
    "\n",
    "\n",
    "# Actividad Aprendizaje Automático\n",
    "\n",
    "En este _notebook_ vamos a presentar la actividad final del curso aprendizaje automático. Se divide en 3 partes:\n",
    "\n",
    "- Evaluación de desempeño de un clasificador.\n",
    "- Clustering y reducción de dimensionalidad.\n",
    "- Clasificación con Random Forests.\n",
    "\n",
    "Cada una de estas partes vale **2 puntos**. La nota final será el **número de puntos + 1**."
   ]
  },
  {
   "cell_type": "markdown",
   "id": "4b2f1e35-cf94-4c2b-a3c6-6fa5420eb7c5",
   "metadata": {},
   "source": [
    "## 1. Evaluando el clasificador Naive Bayes\\[2 pts\\]\n",
    "\n",
    "En esta pregunta debes evaluar el clasificador **Naive Bayes** presentado en clases, que predecía si un correo era Spam o no. Para evaluarlo se pide que calcules:\n",
    "\n",
    "- El _accuracy_.\n",
    "- _Precision_ y _recall_.\n",
    "- _F1-Score_.\n",
    "- Curva de _Precision vs Recall_.\n",
    "- Curva ROC.\n",
    "\n",
    "Luego, en base a tus resultados, debes explicar que tan bueno crees que es el clasificador y si crees que se puede mejorar."
   ]
  },
  {
   "cell_type": "markdown",
   "id": "a05a905b-48f6-4e67-9ca6-e7843ca8fdfc",
   "metadata": {},
   "source": [
    "Primero se crea el entorno para efectuar la clasificación binaria de los correos: spam o no spam. Para lo anterior, se utilizará el calsificador de Naive Bayes.\n"
   ]
  },
  {
   "cell_type": "code",
   "execution_count": 365,
   "id": "30f1e319-686b-4ad8-a08b-2b02fb5f1c64",
   "metadata": {},
   "outputs": [
    {
     "data": {
      "text/plain": [
       "MultinomialNB()"
      ]
     },
     "execution_count": 365,
     "metadata": {},
     "output_type": "execute_result"
    }
   ],
   "source": [
    "from sklearn.naive_bayes import MultinomialNB\n",
    "from sklearn.feature_extraction.text import CountVectorizer\n",
    "from sklearn.model_selection import train_test_split\n",
    "import glob\n",
    "\n",
    "# Recuerda ubicar los mails junto a este _notebook_\n",
    "PATH_MAILS = 'mails-raw/*/*'\n",
    "\n",
    "mails = []\n",
    "answers = []\n",
    "\n",
    "# entrenar el clasificador Naive bayes\n",
    "\n",
    "for filename in glob.glob(PATH_MAILS):\n",
    "    # Checkeamos si es spam o no\n",
    "    is_spam = 'ham' not in filename\n",
    "    \n",
    "    # Ignoramos los posibles errores al abrir un archivo\n",
    "    with open(filename, errors='ignore') as mail_file:\n",
    "        for line in mail_file:\n",
    "            if line.startswith(\"Subject:\"):\n",
    "                # Hacemos strip desde la izquierda\n",
    "                subject = line.lstrip(\"Subject: \")\n",
    "                mails.append(subject.strip())\n",
    "                if is_spam:\n",
    "                    answers.append(1)\n",
    "                else:\n",
    "                    answers.append(0)\n",
    "                break\n",
    "                \n",
    "# Creamos los _datasets_\n",
    "X_train, X_test, y_train, y_test = train_test_split(mails, answers)\n",
    "\n",
    "# Count vectorizer para representar las features\n",
    "vect = CountVectorizer() # contar palabras en una dimensión\n",
    "vect.fit(X_train)\n",
    "\n",
    "# Creamos nuestra matriz para el _dataset_ de entrenamiento\n",
    "X_train_vect = vect.transform(X_train)\n",
    "# Creamos nuestra matriz para el _dataset_ de rueba\n",
    "X_test_vect = vect.transform(X_test) # Notar que estamos transformando con el fit del dataset de entrenamiento\n",
    "\n",
    "# Instanciamos y entrenamos el modelo\n",
    "nb= MultinomialNB()\n",
    "nb.fit(X_train_vect, y_train)"
   ]
  },
  {
   "cell_type": "code",
   "execution_count": 366,
   "id": "506a485e",
   "metadata": {},
   "outputs": [
    {
     "data": {
      "text/plain": [
       "scipy.sparse.csr.csr_matrix"
      ]
     },
     "execution_count": 366,
     "metadata": {},
     "output_type": "execute_result"
    }
   ],
   "source": [
    "type(X_train_vect) # para ver el tipo de X_train_vect, entrega una matriz sparse"
   ]
  },
  {
   "cell_type": "code",
   "execution_count": 367,
   "id": "2fdef9b3",
   "metadata": {},
   "outputs": [
    {
     "name": "stdout",
     "output_type": "stream",
     "text": [
      "  (0, 652)\t1\n",
      "  (0, 1333)\t1\n",
      "  (0, 2511)\t1\n",
      "  (0, 3331)\t1\n",
      "  (0, 3419)\t1\n",
      "  (1, 1151)\t1\n",
      "  (1, 2710)\t1\n",
      "  (1, 2854)\t1\n",
      "  (1, 2942)\t1\n",
      "  (1, 3139)\t1\n",
      "  (1, 3443)\t1\n",
      "  (2, 360)\t1\n",
      "  (2, 384)\t1\n",
      "  (2, 414)\t1\n",
      "  (2, 539)\t1\n",
      "  (2, 1703)\t1\n",
      "  (2, 2696)\t1\n",
      "  (2, 2823)\t1\n",
      "  (2, 3418)\t1\n",
      "  (2, 3719)\t1\n",
      "  (3, 69)\t1\n",
      "  (3, 1517)\t1\n",
      "  (3, 1778)\t1\n",
      "  (3, 1826)\t1\n",
      "  (3, 2289)\t1\n",
      "  :\t:\n",
      "  (2470, 1768)\t1\n",
      "  (2470, 2410)\t1\n",
      "  (2470, 3302)\t1\n",
      "  (2470, 3540)\t1\n",
      "  (2471, 511)\t1\n",
      "  (2471, 2365)\t1\n",
      "  (2471, 2710)\t2\n",
      "  (2471, 2954)\t1\n",
      "  (2471, 3550)\t1\n",
      "  (2471, 3577)\t1\n",
      "  (2472, 333)\t1\n",
      "  (2472, 2710)\t1\n",
      "  (2472, 3700)\t1\n",
      "  (2473, 45)\t1\n",
      "  (2473, 127)\t1\n",
      "  (2473, 767)\t1\n",
      "  (2473, 1263)\t1\n",
      "  (2473, 1505)\t1\n",
      "  (2473, 1816)\t1\n",
      "  (2473, 3031)\t1\n",
      "  (2473, 3278)\t1\n",
      "  (2473, 3563)\t1\n",
      "  (2474, 2196)\t1\n",
      "  (2474, 2318)\t1\n",
      "  (2474, 2710)\t1\n"
     ]
    }
   ],
   "source": [
    "print (X_train_vect) #obtenemos un vector que informa, posición 0, palabra 438-2397 y 2741."
   ]
  },
  {
   "cell_type": "code",
   "execution_count": 368,
   "id": "e5c158eb",
   "metadata": {},
   "outputs": [
    {
     "data": {
      "text/plain": [
       "array([0, 0, 0, 0, 0, 0, 0, 0, 0, 0, 0, 0, 1, 0, 0, 0, 0, 0, 1, 0, 0, 0,\n",
       "       1, 0, 0, 1, 0, 0, 0, 0, 1, 0, 0, 1, 0, 0, 0, 0, 0, 1, 0, 0, 0, 0,\n",
       "       0, 0, 0, 0, 0, 0, 0, 0, 0, 0, 1, 1, 0, 0, 0, 0, 0, 0, 0, 0, 0, 0,\n",
       "       0, 0, 0, 0, 0, 0, 0, 0, 0, 0, 0, 0, 0, 0, 0, 1, 1, 0, 1, 1, 0, 0,\n",
       "       0, 0, 0, 0, 0, 0, 0, 0, 1, 0, 0, 0, 0, 0, 0, 1, 0, 0, 0, 1, 0, 1,\n",
       "       1, 0, 0, 1, 0, 0, 0, 0, 0, 0, 0, 0, 0, 0, 0, 0, 0, 0, 0, 0, 0, 0,\n",
       "       0, 0, 0, 0, 1, 0, 0, 0, 0, 0, 0, 0, 0, 0, 0, 1, 0, 0, 1, 0, 1, 0,\n",
       "       0, 0, 0, 0, 0, 0, 0, 0, 0, 0, 0, 0, 1, 0, 0, 0, 0, 0, 0, 0, 0, 0,\n",
       "       0, 0, 1, 0, 0, 0, 0, 0, 0, 0, 1, 0, 1, 0, 0, 0, 0, 0, 1, 0, 0, 0,\n",
       "       0, 1, 1, 0, 0, 0, 0, 0, 0, 0, 0, 0, 0, 0, 0, 0, 0, 0, 0, 0, 0, 0,\n",
       "       0, 0, 0, 0, 0, 0, 0, 0, 0, 0, 1, 0, 0, 0, 0, 0, 0, 0, 1, 0, 0, 0,\n",
       "       0, 0, 0, 0, 0, 0, 0, 0, 0, 0, 0, 0, 0, 0, 0, 0, 1, 0, 0, 0, 0, 0,\n",
       "       0, 0, 0, 0, 0, 0, 0, 0, 0, 0, 0, 0, 0, 0, 0, 0, 0, 0, 0, 0, 1, 0,\n",
       "       0, 0, 0, 0, 0, 0, 0, 0, 0, 0, 0, 0, 0, 1, 0, 0, 0, 0, 0, 0, 0, 0,\n",
       "       1, 1, 0, 1, 0, 0, 0, 0, 0, 0, 0, 0, 0, 1, 0, 0, 1, 0, 0, 1, 0, 0,\n",
       "       0, 0, 0, 0, 0, 1, 0, 0, 0, 0, 0, 0, 0, 0, 0, 0, 0, 0, 0, 0, 1, 0,\n",
       "       0, 0, 1, 0, 0, 0, 0, 0, 0, 0, 1, 0, 0, 0, 0, 0, 0, 0, 0, 0, 0, 0,\n",
       "       0, 0, 0, 0, 0, 1, 1, 0, 0, 0, 0, 0, 0, 0, 0, 0, 0, 0, 0, 0, 0, 0,\n",
       "       0, 0, 0, 0, 0, 0, 0, 0, 0, 0, 0, 0, 0, 0, 0, 0, 0, 0, 0, 0, 0, 0,\n",
       "       0, 0, 0, 0, 0, 0, 0, 0, 1, 1, 0, 0, 0, 0, 0, 0, 0, 0, 0, 0, 0, 0,\n",
       "       0, 0, 0, 0, 0, 1, 0, 0, 0, 0, 0, 1, 1, 0, 0, 0, 0, 0, 0, 0, 0, 0,\n",
       "       0, 0, 0, 0, 0, 0, 0, 0, 0, 0, 0, 0, 0, 0, 0, 0, 1, 0, 0, 0, 0, 0,\n",
       "       0, 0, 0, 0, 0, 0, 0, 0, 0, 0, 0, 0, 1, 1, 0, 1, 1, 1, 0, 0, 0, 0,\n",
       "       0, 0, 0, 0, 0, 0, 0, 0, 0, 0, 0, 0, 0, 0, 0, 0, 1, 0, 0, 0, 0, 0,\n",
       "       0, 0, 0, 1, 0, 0, 0, 0, 1, 0, 0, 0, 1, 0, 0, 1, 0, 1, 0, 0, 0, 0,\n",
       "       0, 0, 0, 0, 0, 0, 0, 0, 0, 0, 0, 0, 0, 0, 0, 0, 1, 0, 0, 0, 1, 1,\n",
       "       0, 0, 0, 0, 0, 1, 0, 0, 0, 0, 0, 0, 1, 1, 1, 0, 0, 0, 0, 0, 0, 0,\n",
       "       1, 1, 0, 0, 0, 1, 0, 0, 1, 0, 0, 0, 0, 0, 0, 0, 0, 0, 0, 0, 0, 0,\n",
       "       0, 0, 0, 0, 0, 0, 0, 0, 0, 0, 0, 0, 0, 0, 0, 0, 0, 0, 0, 0, 0, 0,\n",
       "       1, 0, 1, 0, 0, 0, 1, 0, 0, 1, 0, 0, 0, 0, 0, 0, 1, 0, 0, 0, 1, 0,\n",
       "       0, 0, 1, 0, 0, 0, 0, 0, 0, 0, 1, 0, 0, 0, 0, 0, 0, 0, 0, 0, 0, 1,\n",
       "       0, 0, 0, 0, 0, 0, 0, 0, 0, 0, 0, 0, 0, 0, 1, 0, 0, 0, 0, 1, 0, 0,\n",
       "       0, 0, 0, 1, 0, 0, 0, 0, 0, 0, 0, 0, 0, 0, 0, 0, 0, 0, 0, 0, 0, 0,\n",
       "       0, 1, 0, 0, 0, 0, 0, 0, 0, 1, 0, 1, 0, 0, 0, 0, 0, 0, 0, 0, 0, 0,\n",
       "       0, 1, 0, 0, 1, 1, 0, 0, 0, 1, 0, 1, 0, 0, 0, 0, 1, 0, 0, 0, 0, 0,\n",
       "       0, 0, 0, 0, 0, 0, 0, 0, 1, 0, 0, 0, 0, 0, 0, 0, 0, 0, 0, 0, 0, 0,\n",
       "       0, 0, 0, 0, 0, 0, 1, 0, 0, 0, 0, 0, 0, 0, 0, 0, 0, 0, 0, 0, 1, 0,\n",
       "       0, 0, 0, 0, 0, 0, 0, 0, 0, 0, 0])"
      ]
     },
     "execution_count": 368,
     "metadata": {},
     "output_type": "execute_result"
    }
   ],
   "source": [
    "nb.predict(X_test_vect) # para obtener las predicciones de los datos de prueba."
   ]
  },
  {
   "cell_type": "code",
   "execution_count": 369,
   "id": "b2200a31",
   "metadata": {},
   "outputs": [],
   "source": [
    "y_predicted = nb.predict(X_test_vect) # con esta generamos la función de predicción que nos permitirá evaluar las métricas."
   ]
  },
  {
   "cell_type": "markdown",
   "id": "714eb9cb-4d66-44c4-9259-4ed99d748609",
   "metadata": {},
   "source": [
    "### 1.1. Accuracy: \n",
    "Antes de efectuar el cálculo de las métricas, se efectuará un cálculo de la **matriz de confusión** con el objeto de comprender de manera gráfica los siguientes parámetros: **T**rue **P**ositive (Verdadero Positivo), **T**rue **N**egative (Verdadero Negativo), **F**alse **P**ositive (Falso Positivo) y **F**alse **N**egative (Falso Negativo) de la predicción y generalmente se utiliza para obtener el rendimiento de un modelo de clasificación."
   ]
  },
  {
   "cell_type": "code",
   "execution_count": 370,
   "id": "df710b46-4988-41f6-8fa0-711f6ffc0558",
   "metadata": {},
   "outputs": [
    {
     "data": {
      "text/plain": [
       "array([[679,  18],\n",
       "       [ 47,  81]])"
      ]
     },
     "execution_count": 370,
     "metadata": {},
     "output_type": "execute_result"
    }
   ],
   "source": [
    "from sklearn.metrics import confusion_matrix\n",
    "\n",
    "confusion_matrix(y_test, y_predicted)"
   ]
  },
  {
   "cell_type": "markdown",
   "id": "d8fc974d-d400-475d-a1bb-23d139c4cb86",
   "metadata": {},
   "source": [
    "Para mayor entendimiento, en la siguiente imagen se observan los parámetros de la matríz de confusión para este caso particular de un planteamiento de problema binario, como el presente, que clasifica si es **Spam o no**.\n",
    "\n",
    "<img src=\"img/matriz.png\" align=\"left\" style=\"width: 320px;\"/>"
   ]
  },
  {
   "cell_type": "markdown",
   "id": "db2534e6-3a9b-4fa1-abea-02cb7466b50a",
   "metadata": {},
   "source": [
    "Considerando lo anterior y la definición dada de cada parámetro, efectuamos el cálculo de **El Accuracy** (Exactitud), que se refiere a lo cerca que está el resultado de una medición del valor verdadero, en otras palabras, la proporción de predicciones que el modelo clasificó correctamente."
   ]
  },
  {
   "cell_type": "code",
   "execution_count": 371,
   "id": "31a0111b-610a-4e84-90f3-e4a121b7f50b",
   "metadata": {},
   "outputs": [
    {
     "data": {
      "text/plain": [
       "0.9212121212121213"
      ]
     },
     "execution_count": 371,
     "metadata": {},
     "output_type": "execute_result"
    }
   ],
   "source": [
    "from sklearn import metrics\n",
    "Y_pred_class= nb.predict(X_test_vect)\n",
    "metrics.accuracy_score(y_test, Y_pred_class)"
   ]
  },
  {
   "cell_type": "markdown",
   "id": "665d40d0-c80d-40ab-87ef-0dbb2c0b08b6",
   "metadata": {},
   "source": [
    "Como se observa en el resultado anterior, el 93.9% de las veces, el modelo es capaz de efectuar una buena predicción.\n",
    "Lo anterior se obtiene de la siguiente ecuación:\n",
    "\n",
    "$$\n",
    "\\text{Accuracy} = \\frac{TP+TN}{TP+TN+FP+FN}\n",
    "$$"
   ]
  },
  {
   "cell_type": "markdown",
   "id": "dbfa9089-7819-483d-b96b-9ac62d8d6ae9",
   "metadata": {},
   "source": [
    "### 1.2. Precision y recall:\n",
    "Ejecutamos una función para obtener el valor de **Precision** que representa el valor predictivo positivo y es la proporción de instancias relevantes entre las instancias recuperadas, en otras palabras, define qué proporción de identificaciones positivas fue realmente correcta."
   ]
  },
  {
   "cell_type": "code",
   "execution_count": 372,
   "id": "d9623518-77f2-4d95-b3db-7dfba5c696a6",
   "metadata": {},
   "outputs": [
    {
     "data": {
      "text/plain": [
       "0.8181818181818182"
      ]
     },
     "execution_count": 372,
     "metadata": {},
     "output_type": "execute_result"
    }
   ],
   "source": [
    "from sklearn.metrics import accuracy_score, f1_score, classification_report, recall_score, confusion_matrix, precision_score\n",
    "precision_score(y_test, y_predicted) # con esta función obtenemos la precisión."
   ]
  },
  {
   "cell_type": "markdown",
   "id": "5b9256b8-e830-4c22-9cd4-dd2e8f4f679c",
   "metadata": {},
   "source": [
    "Como se observa en el resultado anterior, el 88.7% de las veces, el modelo es capaz de efectuar una predicción positiva de manera correcta.\n",
    "Lo anterior se obtiene de la siguiente ecuación:\n",
    "\n",
    "$$\n",
    "\\text{Precision} = \\frac{TP}{TP+FP}\n",
    "$$"
   ]
  },
  {
   "cell_type": "markdown",
   "id": "89ac8ed2-23f4-4b73-b237-dd844019a30c",
   "metadata": {},
   "source": [
    "En el caso del **Recall** (Sensibilidad), representa la proporción de la cantidad total de instancias pertinentes que se recuperaron realmente (True Positive Rate)."
   ]
  },
  {
   "cell_type": "code",
   "execution_count": 373,
   "id": "7c4c74dc-9745-47eb-ad5e-44f8d6d950ad",
   "metadata": {},
   "outputs": [
    {
     "data": {
      "text/plain": [
       "0.6328125"
      ]
     },
     "execution_count": 373,
     "metadata": {},
     "output_type": "execute_result"
    }
   ],
   "source": [
    "recall_score(y_test, y_predicted) # con esta función obtenemos el recall."
   ]
  },
  {
   "cell_type": "markdown",
   "id": "2fa0e4a3-bbc4-4384-832f-0893ce591460",
   "metadata": {},
   "source": [
    "Como se observa en el resultado anterior, el 68.8% representa la tasa de positividad verdadera (**T**rue **P**ositive **R**ate).\n",
    "Lo anterior se obtiene de la siguiente ecuación:\n",
    "\n",
    "$$\n",
    "\\text{Recall} = {TPR} = \\frac{TP}{TP+FN}\n",
    "$$"
   ]
  },
  {
   "cell_type": "markdown",
   "id": "b871236f-9f5d-4396-a976-8faa44debc90",
   "metadata": {},
   "source": [
    "### 1.3. F1-Score:\n",
    "\n",
    "Esta métrica es una medida de la precisión de una prueba, es la media armónica de precisión y recuperación."
   ]
  },
  {
   "cell_type": "code",
   "execution_count": 374,
   "id": "7c7ccd8d",
   "metadata": {},
   "outputs": [
    {
     "data": {
      "text/plain": [
       "0.7136563876651982"
      ]
     },
     "execution_count": 374,
     "metadata": {},
     "output_type": "execute_result"
    }
   ],
   "source": [
    "f1_score(y_test, y_predicted)"
   ]
  },
  {
   "cell_type": "markdown",
   "id": "322c3159-9c7f-464b-a189-220c32409f08",
   "metadata": {},
   "source": [
    "Puede tener una puntuación máxima de 1 (precisión y recuerdo perfectos) y una mínima de 0, representando la robustes del modelo, para este caso, se obtuvo 0.77.\n",
    "Lo anterior se obtiene de la siguiente ecuación:\n",
    "\n",
    "$$\n",
    "\\text{F1_Score} = \\frac{2*(Precision*Recall)}{Precision + Recall} = \\frac{2TP}{2TP+FP+FN}\n",
    "$$"
   ]
  },
  {
   "cell_type": "markdown",
   "id": "fe6a740a-dbbb-4240-ac1f-4f93b1a8f9e7",
   "metadata": {},
   "source": [
    "De igual manera, podemos obtener el reporte de clasificación, que permite obtener todas las métricas, representando las 2 clases (**Spam o no**)."
   ]
  },
  {
   "cell_type": "code",
   "execution_count": 375,
   "id": "eb8e2138",
   "metadata": {},
   "outputs": [
    {
     "name": "stdout",
     "output_type": "stream",
     "text": [
      "              precision    recall  f1-score   support\n",
      "\n",
      "           0       0.94      0.97      0.95       697\n",
      "           1       0.82      0.63      0.71       128\n",
      "\n",
      "    accuracy                           0.92       825\n",
      "   macro avg       0.88      0.80      0.83       825\n",
      "weighted avg       0.92      0.92      0.92       825\n",
      "\n"
     ]
    }
   ],
   "source": [
    "print (classification_report(y_test, y_predicted))"
   ]
  },
  {
   "cell_type": "markdown",
   "id": "ff9e333a-36a0-4b15-8d48-6c5c2aab860d",
   "metadata": {},
   "source": [
    "### 1.4. Curva Precision V/S Recall:\n",
    "\n",
    "Para obtener la curva Precision v/s Recall, debemos generar una validación cruzada para obtener el puntaje, posteriormente podemos observar el `y_scores` y por último, plotear el registro de precisión y recall."
   ]
  },
  {
   "cell_type": "code",
   "execution_count": 376,
   "id": "f6890e53",
   "metadata": {},
   "outputs": [],
   "source": [
    "from sklearn.model_selection import cross_val_predict\n",
    "from sklearn.metrics import precision_recall_curve\n",
    "\n",
    "# Generamos la función de decisión para generar el puntaje\n",
    "y_scores = cross_val_predict(nb, X_train_vect, y_train, cv=5, method='predict_proba') # le paso el clasificador,\n",
    "# datos de entrenamiento, y de entrenamiento y "
   ]
  },
  {
   "cell_type": "code",
   "execution_count": 377,
   "id": "608a1e3c",
   "metadata": {},
   "outputs": [
    {
     "data": {
      "text/plain": [
       "(2475, 2)"
      ]
     },
     "execution_count": 377,
     "metadata": {},
     "output_type": "execute_result"
    }
   ],
   "source": [
    "y_scores.shape #cantidad de registros."
   ]
  },
  {
   "cell_type": "code",
   "execution_count": 378,
   "id": "424d04cc-7dd6-40a9-9b61-ba9979bee12c",
   "metadata": {},
   "outputs": [
    {
     "data": {
      "text/plain": [
       "array([3.43460718e-03, 4.51601571e-06, 9.36620439e-01, ...,\n",
       "       1.21434226e-01, 9.97198123e-01, 1.13843696e-03])"
      ]
     },
     "execution_count": 378,
     "metadata": {},
     "output_type": "execute_result"
    }
   ],
   "source": [
    "y_scores[:,1] #sólo la columna de la derecha."
   ]
  },
  {
   "cell_type": "code",
   "execution_count": 379,
   "id": "74973503-1958-4531-8045-b411262a40ce",
   "metadata": {},
   "outputs": [],
   "source": [
    "y_scores_proc=[]\n",
    "\n",
    "for row in y_scores:\n",
    "    y_scores_proc.append(row[1])\n",
    "    \n",
    "# Generamos las variables necesarias:\n",
    "precisions, recalls, thresholds = precision_recall_curve (y_train, y_scores_proc)\n",
    "\n",
    "def plot_precision_recall_vs_threshold(precisions, recalls, thresholds):\n",
    "    plt.plot(thresholds, precisions[:-1], 'b--', label='Precision')\n",
    "    plt.plot(thresholds, recalls[:-1], 'g-', label='Recall')\n",
    "    plt.legend(loc='center right', fontsize=16)"
   ]
  },
  {
   "cell_type": "code",
   "execution_count": 380,
   "id": "12001982-4f85-4b97-8eb5-7a9c20dfe862",
   "metadata": {},
   "outputs": [
    {
     "data": {
      "image/png": "[encoded data removed]",
      "text/plain": [
       "<Figure size 432x288 with 1 Axes>"
      ]
     },
     "metadata": {
      "needs_background": "light"
     },
     "output_type": "display_data"
    }
   ],
   "source": [
    "import matplotlib.pyplot as plt\n",
    "\n",
    "plot_precision_recall_vs_threshold(precisions, recalls, thresholds)\n",
    "plt.show()"
   ]
  },
  {
   "cell_type": "markdown",
   "id": "869bfc63-4877-45a8-a9ab-7609f36bad21",
   "metadata": {},
   "source": [
    "### 1.5. Curva ROC:\n",
    "\n",
    "Esta gráfica que enfrenta la tasa de falsos positivos (**T**rue **P**ositive **R**ate) (eje x) con la razón de falsos negativos (**F**alse **P**ositive **R**ate (eje y), permite medir falsa alarma en torno a un porcentaje de éxito.\n"
   ]
  },
  {
   "cell_type": "code",
   "execution_count": 381,
   "id": "4fd22e36-287e-45d4-a05c-2efd3e68aebf",
   "metadata": {},
   "outputs": [
    {
     "data": {
      "image/png": "[encoded data removed]",
      "text/plain": [
       "<Figure size 432x288 with 1 Axes>"
      ]
     },
     "metadata": {
      "needs_background": "light"
     },
     "output_type": "display_data"
    }
   ],
   "source": [
    "from sklearn.metrics import roc_curve\n",
    "\n",
    "fpr, tpr, thresholds = roc_curve(y_train, y_scores_proc)\n",
    "\n",
    "def plot_roc_curve(fpr, tpr, label=None):\n",
    "    plt.plot(fpr, tpr, linewidth=3, label=label)\n",
    "    plt.plot([0, 1], [0, 1], 'k--')\n",
    "    plt.xlabel('False Positive Rate (FPR)', fontsize=14)\n",
    "    plt.ylabel('True Positive Rate (TPR)', fontsize=14)\n",
    "    \n",
    "plot_roc_curve(fpr, tpr)\n",
    "plt.show()"
   ]
  },
  {
   "cell_type": "markdown",
   "id": "9bf0d63e-c976-4bd0-9399-e88fa29182e9",
   "metadata": {},
   "source": [
    "Mientras más alejado de la linea punteada, es un mejor clasificador.\n",
    "\n",
    "De igual manera, se efectuará el cálculo del área debajo de la curva (AUC), que puede ser utilizado como resumen de la calidad del modelo"
   ]
  },
  {
   "cell_type": "code",
   "execution_count": 382,
   "id": "140d8252-98f3-44d2-ab01-f1b6eeb5efbd",
   "metadata": {},
   "outputs": [
    {
     "data": {
      "text/plain": [
       "0.9181596694941685"
      ]
     },
     "execution_count": 382,
     "metadata": {},
     "output_type": "execute_result"
    }
   ],
   "source": [
    "from sklearn.metrics import roc_auc_score\n",
    "roc_auc_score(y_train, y_scores_proc)"
   ]
  },
  {
   "cell_type": "markdown",
   "id": "57b8ca40-bcab-4ac7-a3c5-baa8af1400f9",
   "metadata": {},
   "source": [
    "Como se observa y considerando que para efectuar comparación de clasificadores se utiliza la AUC, un clasificador perfecto tendrá un valor = 1, el modelo propuesto tiene un **0.91**."
   ]
  },
  {
   "cell_type": "markdown",
   "id": "ae277e77",
   "metadata": {},
   "source": [
    "## 2. Reducción de dimensionalidad y clustering\n",
    "\n",
    "En esta actividad vamos a trabajar con el _Dataset Iris_ para revisar conceptos de reducción de dimensionalidad y _clustering_.\n",
    "\n",
    "### 2.1. Reducción de dimensionalidad\\[1 pto\\]\n",
    "\n",
    "En esta parte vamos a hacer algunas pruebas clasificando elementos tras haber hecho reducción de dimensionalidad. Tomemos el código base de clases:"
   ]
  },
  {
   "cell_type": "code",
   "execution_count": 383,
   "id": "248632a9",
   "metadata": {},
   "outputs": [],
   "source": [
    "from sklearn.datasets import load_iris\n",
    "from sklearn.decomposition import PCA\n",
    "\n",
    "iris = load_iris()\n",
    "\n",
    "# Recordemos que el dataset original tiene 4 features\n",
    "X = iris['data']\n",
    "y = iris['target']\n",
    "\n",
    "# Recuerda que estas son las features\n",
    "iris['feature_names']\n",
    "\n",
    "# Ahora vamos a reducir la dimensionalidad\n",
    "# Queremos reducir de 4 a 2 dimensiones\n",
    "pca = PCA(n_components=2)\n",
    "\n",
    "# Guardamos el dataset pero ahora en su versión reducida en 2 dimensiones\n",
    "X_2D = pca.fit_transform(X)"
   ]
  },
  {
   "cell_type": "code",
   "execution_count": 384,
   "id": "2e808bf9-28a5-4f7c-950b-73806845509a",
   "metadata": {},
   "outputs": [
    {
     "data": {
      "text/plain": [
       "['sepal length (cm)',\n",
       " 'sepal width (cm)',\n",
       " 'petal length (cm)',\n",
       " 'petal width (cm)']"
      ]
     },
     "execution_count": 384,
     "metadata": {},
     "output_type": "execute_result"
    }
   ],
   "source": [
    "iris['feature_names'] #Esto permite ver la cantidad de dimensiones que posee el dataset (4 en este caso)."
   ]
  },
  {
   "cell_type": "code",
   "execution_count": 385,
   "id": "45686782",
   "metadata": {},
   "outputs": [
    {
     "data": {
      "image/png": "[encoded data removed]",
      "text/plain": [
       "<Figure size 432x288 with 1 Axes>"
      ]
     },
     "metadata": {
      "needs_background": "light"
     },
     "output_type": "display_data"
    }
   ],
   "source": [
    "import matplotlib.pyplot as plt\n",
    "\n",
    "cmap_bold = ['#a72618', '#34892d', '#262ea7']\n",
    "\n",
    "plt.scatter(X [y==0, 0], X [y==0, 1], c=cmap_bold[0], label='Iris Setosa')\n",
    "plt.scatter(X [y==1, 0], X [y==1, 1], c=cmap_bold[1], label='Iris Versicolor')\n",
    "plt.scatter(X [y==2, 0], X [y==2, 1], c=cmap_bold[2], label='Iris Virginica')\n",
    "\n",
    "plt.legend()\n",
    "plt.show()"
   ]
  },
  {
   "cell_type": "markdown",
   "id": "b972f4a2",
   "metadata": {},
   "source": [
    "Ahora se pide que hagas un predictor del tipo de flor en base a los _datasets_ con menos dimensiones y el original. En concreto se pide que entrenes tres predictores con cada uno de los siguientes _datasets_:\n",
    "\n",
    "- El _dataset_ luego de aplicar PCA con una componente.\n",
    "- El _dataset_ luego de aplicar PCA con dos componentes.\n",
    "- El _dataset_ original.\n",
    "\n",
    "Para cada predictor se pide que midas el _accuracy_, la precisión y el _recall_ sobre un _dataset_ de prueba (la proporción entre entrenamiento - prueba la debes escoger tú). \n",
    "\n",
    "**Ojo**: la división de entrenamiento - prueba debe ser la misma para los tres casos, y en cada caso debes hacer `fit` de PCA solamente con el _dataset_ de entrenamiento, luego para el _dataset_ de prueba solamente debes usar  `transform`. Compara los resultados entre los predictores, y contesta la siguiente pregunta:\n",
    "\n",
    "> ¿Cómo se comporta el predictor a medida que bajan las dimensiones? ¿Crees que se pierde mucho al reducir dimensionalidad, en términos de _performance_ del clasificador?\n",
    "\n",
    "Para esta pregunta, puedes usar el clasificador que tú desees (por ejemplo, _random forest_)."
   ]
  },
  {
   "cell_type": "markdown",
   "id": "5ae19359-f31b-423f-9fb4-c34eedd4c11f",
   "metadata": {},
   "source": [
    "#### 2.1.1. El dataset con PCA de una componente utilizando el clasificador Random Forest.\n",
    "\n",
    "Para esto, se efectuará la reducción de las 4 dimensiones obtenidas inicialmente ('sepal length (cm)','sepal width (cm)','petal length (cm)','petal width (cm)') a un total de 1 y posteriormente se le aplicará un clasificador random forest, para luego, obtener sus métricas."
   ]
  },
  {
   "cell_type": "code",
   "execution_count": 298,
   "id": "47978643",
   "metadata": {},
   "outputs": [],
   "source": [
    "from sklearn.datasets import load_iris\n",
    "from sklearn.decomposition import PCA\n",
    "from sklearn.model_selection import train_test_split\n",
    "from sklearn.ensemble import RandomForestClassifier\n",
    "\n",
    "iris = load_iris()\n",
    "\n",
    "X = iris['data']\n",
    "y = iris['target']\n",
    "\n",
    "pca = PCA(n_components=1) # reducimos a uno la dimensionalidad.\n",
    "\n",
    "X_train_1, X_test_1, y_train_1, y_test_1 = train_test_split (X, y)\n",
    "\n",
    "X_train_1D = pca.fit_transform (X_train_1)"
   ]
  },
  {
   "cell_type": "markdown",
   "id": "b118a72d-e1b9-48f4-a1ce-e9827c29e231",
   "metadata": {},
   "source": [
    "Obtenido el `X_train_1D`, se implementa el clasificador Ramdon Forrest. "
   ]
  },
  {
   "cell_type": "code",
   "execution_count": 299,
   "id": "e048318a-f618-42dc-94d9-f6b8fb1df259",
   "metadata": {},
   "outputs": [
    {
     "data": {
      "text/plain": [
       "array([0.92316843])"
      ]
     },
     "execution_count": 299,
     "metadata": {},
     "output_type": "execute_result"
    }
   ],
   "source": [
    "pca.explained_variance_ratio_ # varianzas por componente, este caso con 1."
   ]
  },
  {
   "cell_type": "markdown",
   "id": "95079cff-887e-44d5-90b5-839d21beb215",
   "metadata": {},
   "source": [
    "Con esto, comprendemos que la componente guarda un 92,3% de la varianza."
   ]
  },
  {
   "cell_type": "code",
   "execution_count": 292,
   "id": "48bf715c-9366-41ea-b058-f58ffb962f72",
   "metadata": {},
   "outputs": [],
   "source": [
    "X_test_1D = pca.transform(X_test_1)"
   ]
  },
  {
   "cell_type": "code",
   "execution_count": 293,
   "id": "8c7009ec-7f14-4a09-ba43-1c15d991eec1",
   "metadata": {},
   "outputs": [
    {
     "data": {
      "text/plain": [
       "array([0, 1, 2])"
      ]
     },
     "execution_count": 293,
     "metadata": {},
     "output_type": "execute_result"
    }
   ],
   "source": [
    "from sklearn.ensemble import RandomForestClassifier\n",
    "\n",
    "rnd_clf1d = RandomForestClassifier(n_estimators=100, max_leaf_nodes=16, n_jobs=-1, random_state=42) # número de\n",
    "# estimadores y máximo de nodos en las hojas\n",
    "rnd_clf1d.fit(X_train_1D, y_train_1)\n",
    "rnd_clf1d.classes_ # con esto vemos las clases (Setosa, Versicolor, Virginica)"
   ]
  },
  {
   "cell_type": "code",
   "execution_count": 294,
   "id": "4a26b96a-6bf6-4d68-99e1-edf5f3155e45",
   "metadata": {},
   "outputs": [
    {
     "name": "stdout",
     "output_type": "stream",
     "text": [
      "[0 0 1 0 2 1 2 2 2 1 0 0 1 2 2 2 1 2 2 0 0 2 2 2 2 2 0 2 2 0 0 1 2 2 1 1 1\n",
      " 2]\n"
     ]
    }
   ],
   "source": [
    "y_pred_rf_1D = rnd_clf1d.predict(X_test_1D)\n",
    "print(y_pred_rf_1D)"
   ]
  },
  {
   "cell_type": "code",
   "execution_count": 295,
   "id": "3bd3791f-a801-4c87-b705-018a03fb90eb",
   "metadata": {},
   "outputs": [
    {
     "name": "stdout",
     "output_type": "stream",
     "text": [
      "              precision    recall  f1-score   support\n",
      "\n",
      "           0       1.00      1.00      1.00        10\n",
      "           1       0.89      0.57      0.70        14\n",
      "           2       0.68      0.93      0.79        14\n",
      "\n",
      "    accuracy                           0.82        38\n",
      "   macro avg       0.86      0.83      0.83        38\n",
      "weighted avg       0.84      0.82      0.81        38\n",
      "\n"
     ]
    }
   ],
   "source": [
    "from sklearn.metrics import classification_report, confusion_matrix\n",
    "print (classification_report(y_test_1, y_pred_rf_1D))"
   ]
  },
  {
   "cell_type": "code",
   "execution_count": 296,
   "id": "8d0435eb-c2a5-42b1-9a3b-b705bff7f74a",
   "metadata": {},
   "outputs": [
    {
     "data": {
      "text/plain": [
       "array([[10,  0,  0],\n",
       "       [ 0,  8,  6],\n",
       "       [ 0,  1, 13]])"
      ]
     },
     "execution_count": 296,
     "metadata": {},
     "output_type": "execute_result"
    }
   ],
   "source": [
    "conf_mx_1D =confusion_matrix(y_test_1, y_pred_rf_1D)\n",
    "conf_mx_1D"
   ]
  },
  {
   "cell_type": "code",
   "execution_count": 297,
   "id": "421a0676-cf36-4f07-b9fb-343aecacd464",
   "metadata": {},
   "outputs": [
    {
     "data": {
      "image/png": "[encoded data removed]",
      "text/plain": [
       "<Figure size 288x288 with 1 Axes>"
      ]
     },
     "metadata": {
      "needs_background": "light"
     },
     "output_type": "display_data"
    }
   ],
   "source": [
    "plt.matshow(conf_mx_1D, cmap=plt.cm.gray)\n",
    "plt.show()"
   ]
  },
  {
   "cell_type": "markdown",
   "id": "85fa9aa4-2200-49fd-8394-46cc4e923938",
   "metadata": {},
   "source": [
    "#### 2.1.2. El dataset con PCA de dos componentes utilizando el clasificador Random Forest:"
   ]
  },
  {
   "cell_type": "code",
   "execution_count": 300,
   "id": "b2f23b54-00e4-45f5-9ae0-fb2da207ae6c",
   "metadata": {},
   "outputs": [],
   "source": [
    "from sklearn.datasets import load_iris\n",
    "from sklearn.decomposition import PCA\n",
    "from sklearn.model_selection import train_test_split\n",
    "from sklearn.ensemble import RandomForestClassifier\n",
    "\n",
    "X = iris['data']\n",
    "y = iris['target']\n",
    "\n",
    "pca = PCA(n_components=2) # reducimos a dos la dimensionalidad.\n",
    "\n",
    "X_train_2, X_test_2, y_train_2, y_test_2 = train_test_split (X, y)\n",
    "\n",
    "X_train_2D = pca.fit_transform (X_train_2)"
   ]
  },
  {
   "cell_type": "code",
   "execution_count": 302,
   "id": "a95f4b37-4a47-4742-b385-b8e8ea97b0ac",
   "metadata": {},
   "outputs": [
    {
     "data": {
      "text/plain": [
       "array([0.93496715, 0.04370125])"
      ]
     },
     "execution_count": 302,
     "metadata": {},
     "output_type": "execute_result"
    }
   ],
   "source": [
    "pca.explained_variance_ratio_ # varianzas por componente, este caso con 2."
   ]
  },
  {
   "cell_type": "markdown",
   "id": "832c3b58-c54c-4b16-baf4-0734bee752e1",
   "metadata": {},
   "source": [
    "La primera componente \"guarda\" un 93,5% de la varianza total, y la segunda componente guarda 4,4%"
   ]
  },
  {
   "cell_type": "code",
   "execution_count": 308,
   "id": "032603c0-7ab5-4782-a374-9b8f368623d9",
   "metadata": {},
   "outputs": [
    {
     "data": {
      "text/plain": [
       "array([0, 1, 2])"
      ]
     },
     "execution_count": 308,
     "metadata": {},
     "output_type": "execute_result"
    }
   ],
   "source": [
    "X_test_2D = pca.transform(X_test_2)\n",
    "\n",
    "rnd_clf2d = RandomForestClassifier(n_estimators=100, max_leaf_nodes=16, n_jobs=-1, random_state=42) # número de\n",
    "# estimadores y máximo de nodos en las hojas\n",
    "rnd_clf2d.fit(X_train_2D, y_train_2)\n",
    "rnd_clf2d.classes_ # con esto vemos las clases (Setosa, Versicolor, Virginica)"
   ]
  },
  {
   "cell_type": "code",
   "execution_count": 309,
   "id": "0cb335a6-19e6-452d-9d20-15991f6cca90",
   "metadata": {},
   "outputs": [
    {
     "name": "stdout",
     "output_type": "stream",
     "text": [
      "[2 2 1 0 1 0 1 1 0 1 2 1 2 1 0 1 0 2 1 2 2 2 0 2 1 0 0 2 0 1 1 1 2 2 1 0 1\n",
      " 0]\n"
     ]
    }
   ],
   "source": [
    "y_pred_rf_2D = rnd_clf2d.predict(X_test_2D)\n",
    "print(y_pred_rf_2D)"
   ]
  },
  {
   "cell_type": "code",
   "execution_count": 310,
   "id": "cb996749-00bc-42d8-ad41-ba5bb418bfe0",
   "metadata": {},
   "outputs": [
    {
     "name": "stdout",
     "output_type": "stream",
     "text": [
      "              precision    recall  f1-score   support\n",
      "\n",
      "           0       1.00      1.00      1.00        11\n",
      "           1       0.93      0.93      0.93        15\n",
      "           2       0.92      0.92      0.92        12\n",
      "\n",
      "    accuracy                           0.95        38\n",
      "   macro avg       0.95      0.95      0.95        38\n",
      "weighted avg       0.95      0.95      0.95        38\n",
      "\n"
     ]
    }
   ],
   "source": [
    "from sklearn.metrics import classification_report\n",
    "print (classification_report(y_test_2, y_pred_rf_2D))"
   ]
  },
  {
   "cell_type": "code",
   "execution_count": 311,
   "id": "03dca063-4ece-4c95-91ea-6214452e2a2e",
   "metadata": {},
   "outputs": [
    {
     "data": {
      "text/plain": [
       "array([[11,  0,  0],\n",
       "       [ 0, 14,  1],\n",
       "       [ 0,  1, 11]])"
      ]
     },
     "execution_count": 311,
     "metadata": {},
     "output_type": "execute_result"
    }
   ],
   "source": [
    "conf_mx_2D =confusion_matrix(y_test_2, y_pred_rf_2D)\n",
    "conf_mx_2D"
   ]
  },
  {
   "cell_type": "code",
   "execution_count": 312,
   "id": "cf8be08b-2f80-419d-8010-03421acc7d6f",
   "metadata": {},
   "outputs": [
    {
     "data": {
      "image/png": "[encoded data removed]",
      "text/plain": [
       "<Figure size 288x288 with 1 Axes>"
      ]
     },
     "metadata": {
      "needs_background": "light"
     },
     "output_type": "display_data"
    }
   ],
   "source": [
    "plt.matshow(conf_mx_2D, cmap=plt.cm.gray)\n",
    "plt.show()"
   ]
  },
  {
   "cell_type": "markdown",
   "id": "e52d40fe-d5c0-4f6a-877c-267ec3ce1f8c",
   "metadata": {},
   "source": [
    "#### 2.1.3. El dataset original utilizando el clasificador Random Forest:"
   ]
  },
  {
   "cell_type": "code",
   "execution_count": 273,
   "id": "5fc6753f-0254-41e7-9c13-dc0d12770622",
   "metadata": {},
   "outputs": [
    {
     "data": {
      "text/plain": [
       "array([0, 1, 2])"
      ]
     },
     "execution_count": 273,
     "metadata": {},
     "output_type": "execute_result"
    }
   ],
   "source": [
    "from sklearn.datasets import load_iris\n",
    "from sklearn.decomposition import PCA\n",
    "from sklearn.model_selection import train_test_split\n",
    "from sklearn.ensemble import RandomForestClassifier\n",
    "\n",
    "X = iris['data']\n",
    "y = iris['target']\n",
    "\n",
    "X_train, X_test, y_train, y_test = train_test_split (X, y)\n",
    "\n",
    "rnd_clf = RandomForestClassifier(n_estimators=100, max_leaf_nodes=16, n_jobs=-1, random_state=42) # número de\n",
    "# estimadores y máximo de nodos en las hojas\n",
    "\n",
    "rnd_clf.fit(X_train, y_train)\n",
    "rnd_clf.classes_ # con esto vemos las clases (Setosa, Versicolor, Virginica)"
   ]
  },
  {
   "cell_type": "code",
   "execution_count": 274,
   "id": "1d2aedef-7dd0-4351-922a-e2ab4c583808",
   "metadata": {},
   "outputs": [
    {
     "name": "stdout",
     "output_type": "stream",
     "text": [
      "[2 1 2 1 1 1 1 0 0 2 1 0 2 1 2 1 2 2 0 1 0 0 1 1 2 2 1 2 2 0 1 2 0 0 0 1 0\n",
      " 0]\n"
     ]
    }
   ],
   "source": [
    "y_pred_rf = rnd_clf.predict(X_test)\n",
    "print(y_pred_rf)"
   ]
  },
  {
   "cell_type": "code",
   "execution_count": 275,
   "id": "70f125c0-3e5a-4705-996a-b8b5e84a87f3",
   "metadata": {},
   "outputs": [
    {
     "name": "stdout",
     "output_type": "stream",
     "text": [
      "              precision    recall  f1-score   support\n",
      "\n",
      "           0       1.00      1.00      1.00        12\n",
      "           1       1.00      0.93      0.97        15\n",
      "           2       0.92      1.00      0.96        11\n",
      "\n",
      "    accuracy                           0.97        38\n",
      "   macro avg       0.97      0.98      0.97        38\n",
      "weighted avg       0.98      0.97      0.97        38\n",
      "\n"
     ]
    }
   ],
   "source": [
    "from sklearn.metrics import classification_report\n",
    "print (classification_report(y_test, y_pred_rf))"
   ]
  },
  {
   "cell_type": "code",
   "execution_count": 276,
   "id": "c4a00c51-4ba9-4c8f-92cd-39c367c65c1a",
   "metadata": {},
   "outputs": [
    {
     "data": {
      "text/plain": [
       "array([[12,  0,  0],\n",
       "       [ 0, 14,  1],\n",
       "       [ 0,  0, 11]])"
      ]
     },
     "execution_count": 276,
     "metadata": {},
     "output_type": "execute_result"
    }
   ],
   "source": [
    "conf_mx =confusion_matrix(y_test, y_pred_rf)\n",
    "conf_mx"
   ]
  },
  {
   "cell_type": "code",
   "execution_count": 277,
   "id": "50dd5c2b-9aad-4c32-ac0a-90135a6a9e08",
   "metadata": {},
   "outputs": [
    {
     "data": {
      "image/png": "[encoded data removed]",
      "text/plain": [
       "<Figure size 288x288 with 1 Axes>"
      ]
     },
     "metadata": {
      "needs_background": "light"
     },
     "output_type": "display_data"
    }
   ],
   "source": [
    "plt.matshow(conf_mx, cmap=plt.cm.gray)\n",
    "plt.show()"
   ]
  },
  {
   "cell_type": "markdown",
   "id": "e05213e8-7424-4554-891a-c0dd07cad22c",
   "metadata": {},
   "source": [
    "#### 2.1.4. Conclusiones:\n",
    "\n",
    "**(Considerar que los porcentajes cambian, cada vez que se corre el código, debido a la asignación random que efectúa)**\n",
    "\n",
    " Si se efectúa una comparación de los 3 modelos obtenidos, se puede concluir que al reducir a sólo una dimensión, disminuye el Accuracy del modelo a un **89%**, comparado con el modelo original que tiene un **95%** de Accuracy.\n",
    " \n",
    "Por otra parte, si efectuamos una comparación del modelo original con el que aplica un PCA =  2, se obtiene un incremento en el Accuracy de **97%**.\n",
    " \n",
    "Por lo anterior, lo más conveniente al analizar cada modelo y aplicar técnicas de reducción de dimensionalidad, es efectuar una comparación de las métricas, de manera de no disminuir la eficiencia general del modelo."
   ]
  },
  {
   "cell_type": "markdown",
   "id": "bf1fe526",
   "metadata": {},
   "source": [
    "### 2.2. Clustering\\[1 pto\\]\n",
    "\n",
    "En esta parte vamos a poner a prueba las técnicas de _clustering_ sobre el _dataset Iris_ para comprender que tan bien este algoritmo puede descubrir las etiquetas reales. En concreto se pide lo siguiente:\n",
    "\n",
    "- Ejecuta el algoritmo de KMeans sobre el _Dataset Iris_ con sus 4 features para descubrir **3 clusters**. Luego, compara los resultados del algoritmo con las etiquetas reales. ¿Qué tan bien crees que el algoritmo descubrió las etiquetas reales?\n",
    "- Luego repite el procedimiento sobre el _Dataset Iris_ luego de haber hecho PCA con 2 componentes. ¿Qué tanto cambia el resultado al haber reducido las dimensiones?"
   ]
  },
  {
   "cell_type": "code",
   "execution_count": 321,
   "id": "9c6574d7",
   "metadata": {},
   "outputs": [],
   "source": [
    "from sklearn.datasets import load_iris\n",
    "from sklearn.decomposition import PCA\n",
    "\n",
    "iris = load_iris()\n",
    "\n",
    "# Recordemos que el dataset original tiene 4 features\n",
    "X = iris['data']\n",
    "y = iris['target']"
   ]
  },
  {
   "cell_type": "markdown",
   "id": "043c7677-7e94-4078-91d6-6401cc04ecbf",
   "metadata": {},
   "source": [
    "#### 2.2.1. Algoritmo de KMeans sobre el _Dataset Iris_ con sus 4 features para descubrir **3 clusters**:\n"
   ]
  },
  {
   "cell_type": "code",
   "execution_count": 322,
   "id": "9a098bc7-808c-4a11-83c6-364fae6e3f6c",
   "metadata": {},
   "outputs": [
    {
     "data": {
      "text/plain": [
       "['sepal length (cm)',\n",
       " 'sepal width (cm)',\n",
       " 'petal length (cm)',\n",
       " 'petal width (cm)']"
      ]
     },
     "execution_count": 322,
     "metadata": {},
     "output_type": "execute_result"
    }
   ],
   "source": [
    "# Obtenemos las 4 features.\n",
    "iris['feature_names']"
   ]
  },
  {
   "cell_type": "code",
   "execution_count": 329,
   "id": "582b6f81-04fa-4981-b459-f04a6782dd62",
   "metadata": {},
   "outputs": [],
   "source": [
    "# Importamos K-means\n",
    "from sklearn.cluster import KMeans\n",
    "\n",
    "k = 5 # elegimos 5 en forma aleatoria, tomando el ejemplo del otro notebook\n",
    "kmeans = KMeans(n_clusters=k, random_state=42)\n",
    "y_pred = kmeans.fit_predict(X) # como es aprendizaje no supervisado solo pasamos X, en general cuando hay un _\n",
    "# es una composición de dos funciones\n"
   ]
  },
  {
   "cell_type": "code",
   "execution_count": 330,
   "id": "a2168714-3c8b-4d7b-8417-ba7fbf275442",
   "metadata": {},
   "outputs": [
    {
     "data": {
      "text/plain": [
       "array([1, 1, 1, 1, 1, 1, 1, 1, 1, 1, 1, 1, 1, 1, 1, 1, 1, 1, 1, 1, 1, 1,\n",
       "       1, 1, 1, 1, 1, 1, 1, 1, 1, 1, 1, 1, 1, 1, 1, 1, 1, 1, 1, 1, 1, 1,\n",
       "       1, 1, 1, 1, 1, 1, 3, 3, 3, 2, 3, 3, 3, 2, 3, 2, 2, 3, 2, 3, 2, 3,\n",
       "       3, 2, 3, 2, 3, 2, 3, 3, 3, 3, 3, 3, 3, 2, 2, 2, 2, 3, 2, 3, 3, 3,\n",
       "       2, 2, 2, 3, 2, 2, 2, 2, 2, 3, 2, 2, 4, 3, 0, 4, 4, 0, 2, 0, 4, 0,\n",
       "       4, 4, 4, 3, 4, 4, 4, 0, 0, 3, 4, 3, 0, 3, 4, 0, 3, 3, 4, 0, 0, 0,\n",
       "       4, 3, 3, 0, 4, 4, 3, 4, 4, 4, 3, 4, 4, 4, 3, 4, 4, 3], dtype=int32)"
      ]
     },
     "execution_count": 330,
     "metadata": {},
     "output_type": "execute_result"
    }
   ],
   "source": [
    "# Vamos las etiquetas predecidas por el algoritmo K-means\n",
    "y_pred"
   ]
  },
  {
   "cell_type": "markdown",
   "id": "5e6245b1-2eed-4a1a-bfd5-69b0f2ef487c",
   "metadata": {},
   "source": [
    "Se observa que aparecen 5 clusters (etiquetas 0, 1, 2, 3 y 4) de datos."
   ]
  },
  {
   "cell_type": "code",
   "execution_count": 349,
   "id": "c7138ade-e535-4cb5-87c1-d5e757c755c9",
   "metadata": {},
   "outputs": [
    {
     "data": {
      "image/png": "[encoded data removed]",
      "text/plain": [
       "<Figure size 432x432 with 1 Axes>"
      ]
     },
     "metadata": {
      "needs_background": "light"
     },
     "output_type": "display_data"
    }
   ],
   "source": [
    "cmap_bold = ['#803260', '#3956b1', '#e614e3', '#64a0b9', '#6eab04']\n",
    "\n",
    "plt.figure(figsize=(6, 6))\n",
    "\n",
    "plt.scatter(X[y_pred==0, 0], X[y_pred==0, 1], c=cmap_bold[0], label='0') # filtro clasificados con cero\n",
    "plt.scatter(X[y_pred==1, 0], X[y_pred==1, 1], c=cmap_bold[1], label='1') # filtro clasificados con uno\n",
    "plt.scatter(X[y_pred==2, 0], X[y_pred==2, 1], c=cmap_bold[2], label='2') # filtro clasificados con dos\n",
    "plt.scatter(X[y_pred==3, 0], X[y_pred==3, 1], c=cmap_bold[3], label='3') # filtro clasificados con tres\n",
    "plt.scatter(X[y_pred==4, 0], X[y_pred==4, 1], c=cmap_bold[4], label='4') # filtro clasificados con cuatro\n",
    "\n",
    "plt.legend()\n",
    "plt.show()"
   ]
  },
  {
   "cell_type": "code",
   "execution_count": 328,
   "id": "a316516c-23b1-41bc-b342-6bffef6e0d1e",
   "metadata": {},
   "outputs": [
    {
     "data": {
      "text/plain": [
       "78.851441426146"
      ]
     },
     "execution_count": 328,
     "metadata": {},
     "output_type": "execute_result"
    }
   ],
   "source": [
    "kmeans.inertia_"
   ]
  },
  {
   "cell_type": "markdown",
   "id": "20c05579-e15f-4074-b830-7267d3f163bb",
   "metadata": {},
   "source": [
    "Utilizamos el método del codo para determinar el número óptimo de clúster."
   ]
  },
  {
   "cell_type": "code",
   "execution_count": 335,
   "id": "d2a9ce30-fc5f-4456-acc8-1f3d8be76a02",
   "metadata": {},
   "outputs": [],
   "source": [
    "kmeans_per_k = [KMeans(n_clusters=k, random_state=42).fit(X)\n",
    "                for k in range(1, 10)]\n",
    "inertias = [model.inertia_ for model in kmeans_per_k]"
   ]
  },
  {
   "cell_type": "code",
   "execution_count": 356,
   "id": "931c245e-f638-4c28-b98c-393e324116b7",
   "metadata": {},
   "outputs": [
    {
     "data": {
      "image/png": "[encoded data removed]",
      "text/plain": [
       "<Figure size 576x252 with 1 Axes>"
      ]
     },
     "metadata": {
      "needs_background": "light"
     },
     "output_type": "display_data"
    }
   ],
   "source": [
    "plt.figure(figsize=(8, 3.5))\n",
    "plt.plot(range(1, 10), inertias, \"bo-\")\n",
    "plt.xlabel(\"$k$\", fontsize=14)\n",
    "plt.ylabel(\"Inertia\", fontsize=14)\n",
    "\n",
    "plt.axis([0, 10, 0, 700])\n",
    "plt.show()"
   ]
  },
  {
   "cell_type": "markdown",
   "id": "5e0b9fcf-a096-43db-8f54-39926a1a4ce6",
   "metadata": {},
   "source": [
    "Como a través del método del codo obtuvimos que el número óptimo de clúster es = 3, ejecutamos nuevamente el algoritmo para k =3."
   ]
  },
  {
   "cell_type": "code",
   "execution_count": 386,
   "id": "95e3fc50-a774-4df7-9357-e7bb40bdd826",
   "metadata": {},
   "outputs": [
    {
     "data": {
      "image/png": "[encoded data removed]",
      "text/plain": [
       "<Figure size 432x288 with 1 Axes>"
      ]
     },
     "metadata": {
      "needs_background": "light"
     },
     "output_type": "display_data"
    },
    {
     "data": {
      "image/png": "[encoded data removed]",
      "text/plain": [
       "<Figure size 432x288 with 1 Axes>"
      ]
     },
     "metadata": {
      "needs_background": "light"
     },
     "output_type": "display_data"
    }
   ],
   "source": [
    "k = 3 # de acuerdo al enunciado\n",
    "kmeans = KMeans(n_clusters=k, random_state=42)\n",
    "y_pred = kmeans.fit_predict(X)\n",
    "cmap_bold = ['#803260', '#3956b1', '#e614e3']\n",
    "\n",
    "plt.scatter(X[y_pred==0, 0], X[y_pred==0, 1], c=cmap_bold[0], label='0') # filtro clasificados con cero\n",
    "plt.scatter(X[y_pred==1, 0], X[y_pred==1, 1], c=cmap_bold[1], label='1') # filtro clasificados con uno\n",
    "plt.scatter(X[y_pred==2, 0], X[y_pred==2, 1], c=cmap_bold[2], label='2') # filtro clasificados con dos\n",
    "\n",
    "plt.legend()\n",
    "plt.show()\n",
    "\n",
    "cmap_bold = ['#a72618', '#34892d', '#262ea7']\n",
    "\n",
    "plt.scatter(X [y==0, 0], X [y==0, 1], c=cmap_bold[0], label='Iris Setosa')\n",
    "plt.scatter(X [y==1, 0], X [y==1, 1], c=cmap_bold[1], label='Iris Versicolor')\n",
    "plt.scatter(X [y==2, 0], X [y==2, 1], c=cmap_bold[2], label='Iris Virginica')\n",
    "\n",
    "plt.legend()\n",
    "plt.show()"
   ]
  },
  {
   "cell_type": "markdown",
   "id": "7f75bafd-bdc3-4f92-b7d2-005fef88618e",
   "metadata": {},
   "source": [
    "Como se observa e la comparación de ambos gráficos, al aplicar un método de kmeans y descubrir el óptimo mediante la técnica del codo, observamos que el algoritmo tiene la capacidad de identificar de buena manera las etiquetas de clase (`Setosa`, `Versicolor`y `Virginica`).\n",
    "\n",
    "Lo anterior, no consideró una reducción de la dimensionalidad, como se efectuará en el siguiente etapa."
   ]
  },
  {
   "cell_type": "markdown",
   "id": "d26be57c-c705-471c-a4ae-473ba4532800",
   "metadata": {},
   "source": [
    "#### 2.2.2. Aprocedimiento sobre el _Dataset Iris_ luego de haber hecho PCA con 2 componentes:\n"
   ]
  },
  {
   "cell_type": "code",
   "execution_count": 359,
   "id": "a5074104-8c4d-4f6e-8134-9fe85fe90ac2",
   "metadata": {},
   "outputs": [],
   "source": [
    "from sklearn.datasets import load_iris\n",
    "from sklearn.decomposition import PCA\n",
    "\n",
    "iris = load_iris()\n",
    "\n",
    "X = iris['data']\n",
    "y = iris['target']\n",
    "\n",
    "iris['feature_names']\n",
    "\n",
    "# Ahora vamos a reducir la dimensionalidad\n",
    "pca = PCA(n_components=2)\n",
    "\n",
    "# Guardamos el dataset pero ahora en su versión reducida en 2 dimensiones\n",
    "X_2D = pca.fit_transform(X)"
   ]
  },
  {
   "cell_type": "code",
   "execution_count": 360,
   "id": "a6b1e4f5-7a9c-4df9-8ae6-a1c21b440681",
   "metadata": {},
   "outputs": [],
   "source": [
    "from sklearn.cluster import KMeans\n",
    "\n",
    "k = 3 # de acuerdo al enunciado\n",
    "kmeans = KMeans(n_clusters=k, random_state=42)\n",
    "y_pred = kmeans.fit_predict(X_2D)"
   ]
  },
  {
   "cell_type": "code",
   "execution_count": 362,
   "id": "a4bc9437-0863-410b-be92-302480d7939f",
   "metadata": {},
   "outputs": [
    {
     "data": {
      "image/png": "[encoded data removed]",
      "text/plain": [
       "<Figure size 432x288 with 1 Axes>"
      ]
     },
     "metadata": {
      "needs_background": "light"
     },
     "output_type": "display_data"
    },
    {
     "data": {
      "image/png": "[encoded data removed]",
      "text/plain": [
       "<Figure size 432x288 with 1 Axes>"
      ]
     },
     "metadata": {
      "needs_background": "light"
     },
     "output_type": "display_data"
    }
   ],
   "source": [
    "import matplotlib.pyplot as plt\n",
    "\n",
    "cmap_bold = ['#803260', '#3956b1', '#e614e3', '#64a0b9', '#6eab04']\n",
    "\n",
    "plt.scatter(X_2D[y_pred==0, 0], X_2D[y_pred==0, 1], c=cmap_bold[0], label='0') # filtro clasificados con cero\n",
    "plt.scatter(X_2D[y_pred==1, 0], X_2D[y_pred==1, 1], c=cmap_bold[1], label='1') # filtro clasificados con uno\n",
    "plt.scatter(X_2D[y_pred==2, 0], X_2D[y_pred==2, 1], c=cmap_bold[2], label='2') # filtro clasificados con dos\n",
    "\n",
    "plt.legend()\n",
    "plt.show()\n",
    "\n",
    "cmap_bold = ['#a72618', '#34892d', '#262ea7']\n",
    "\n",
    "plt.scatter(X_2D[y==0, 0], X_2D[y==0, 1], c=cmap_bold[0], label='Iris Setosa')\n",
    "plt.scatter(X_2D[y==1, 0], X_2D[y==1, 1], c=cmap_bold[1], label='Iris Versicolor')\n",
    "plt.scatter(X_2D[y==2, 0], X_2D[y==2, 1], c=cmap_bold[2], label='Iris Virginica')\n",
    "\n",
    "plt.legend()\n",
    "plt.show()"
   ]
  },
  {
   "cell_type": "markdown",
   "id": "49096382-6ead-40ba-843b-ad146148744a",
   "metadata": {},
   "source": [
    "Como se observa en la figura, se obtienen similares resultados al aplicar clustering para reconocimiento de etiquetas de clase (`Setosa`, `Versicolor`y `Virginica`), tras aplicar técnicas de reducción de dimensionalidad.\n",
    "\n",
    "A pesar de haber reducido las features (dimensiones), el algoritmo Kmeans de igual manera reconoce etiquetas."
   ]
  },
  {
   "cell_type": "markdown",
   "id": "5815e0a6",
   "metadata": {},
   "source": [
    "## 3. Random Forest\n",
    "\n",
    "En esta parte vas a entrenar un predictor para el _Dataset Fashion MNist_, que es similar al famoso _dataset_ MNist, pero en este las imágenes corresponden a prendas. La idea es que al ver una imagen, podamos predecir el tipo de prenda. Primero vamos a cargar el _dataset_."
   ]
  },
  {
   "cell_type": "code",
   "execution_count": 363,
   "id": "c2c92f39",
   "metadata": {},
   "outputs": [],
   "source": [
    "# pip install tensorflow"
   ]
  },
  {
   "cell_type": "code",
   "execution_count": 396,
   "id": "efc403b4",
   "metadata": {},
   "outputs": [
    {
     "data": {
      "text/plain": [
       "(60000, 28, 28)"
      ]
     },
     "execution_count": 396,
     "metadata": {},
     "output_type": "execute_result"
    }
   ],
   "source": [
    "from tensorflow import keras\n",
    "\n",
    "fashion_mnist = keras.datasets.fashion_mnist\n",
    "\n",
    "# Cargamos el dataset, notemos que ya viene dividido\n",
    "(X_train_full, y_train_full), (X_test, y_test) = fashion_mnist.load_data()\n",
    "X_train_full.shape"
   ]
  },
  {
   "cell_type": "markdown",
   "id": "b5ce7520-aa14-4e96-8830-72400b285f48",
   "metadata": {},
   "source": [
    "De acuerdo a lo detallado anteriormente, se definen las siguientes variables para su clasificación: `T-shirt/top`, `Trouser`, `Pullover`, `Dress`, `Coat`,\n",
    "               `Sandal`, `Shirt`, `Sneaker`, `Bag` y `Ankle boot`."
   ]
  },
  {
   "cell_type": "markdown",
   "id": "903c3ce8",
   "metadata": {},
   "source": [
    "Las clases son las siguientes:"
   ]
  },
  {
   "cell_type": "code",
   "execution_count": 408,
   "id": "7a278118",
   "metadata": {},
   "outputs": [],
   "source": [
    "class_names = [\"T-shirt/top\", \"Trouser\", \"Pullover\", \"Dress\", \"Coat\",\n",
    "               \"Sandal\", \"Shirt\", \"Sneaker\", \"Bag\", \"Ankle boot\"]"
   ]
  },
  {
   "cell_type": "markdown",
   "id": "919adffc",
   "metadata": {},
   "source": [
    "Vamos a graficar parte del _dataset_."
   ]
  },
  {
   "cell_type": "code",
   "execution_count": 402,
   "id": "51bc8a6b",
   "metadata": {},
   "outputs": [
    {
     "data": {
      "image/png": "[encoded data removed]",
      "text/plain": [
       "<Figure size 864x345.6 with 40 Axes>"
      ]
     },
     "metadata": {
      "needs_background": "light"
     },
     "output_type": "display_data"
    }
   ],
   "source": [
    "import matplotlib.pyplot as plt\n",
    "\n",
    "n_rows = 4\n",
    "n_cols = 10\n",
    "plt.figure(figsize=(n_cols * 1.2, n_rows * 1.2))\n",
    "for row in range(n_rows):\n",
    "    for col in range(n_cols):\n",
    "        index = n_cols * row + col\n",
    "        plt.subplot(n_rows, n_cols, index + 1)\n",
    "        plt.imshow(X_train_full[index], cmap=\"binary\", interpolation=\"nearest\")\n",
    "        plt.axis('off')\n",
    "        plt.title(class_names[y_train_full[index]], fontsize=12)\n",
    "plt.subplots_adjust(wspace=0.2, hspace=0.5)\n",
    "plt.show()"
   ]
  },
  {
   "cell_type": "markdown",
   "id": "642ef666",
   "metadata": {},
   "source": [
    "Tenemos que cambiar la dimensión de las imagenes de $28\\times28$ a $784$."
   ]
  },
  {
   "cell_type": "code",
   "execution_count": 403,
   "id": "c007e914",
   "metadata": {},
   "outputs": [],
   "source": [
    "X_train_full = X_train_full.reshape(X_train_full.shape[0], 784)\n",
    "X_test = X_test.reshape(X_test.shape[0], 784)"
   ]
  },
  {
   "cell_type": "markdown",
   "id": "34659a47",
   "metadata": {},
   "source": [
    "### 3.1. Visualización con T-SNE \\[1 pto\\]\n",
    "\n",
    "Lo primero que debes hacer es visualizar el _dataset_ en dos dimensiones utilizanddo T-SNE (esto te puede servir para entender el _dataset_ a un nivel más profundo. ¿Puedes distinguir los _clusters_ claramente? ¿Qué puedes decir de los elementos de distintas clases que quedan cerca entre sí? Recuerda intentar con un número limitado de imágenes para que tome menos tiempo (ej. 2000 primeras observaciones)."
   ]
  },
  {
   "cell_type": "code",
   "execution_count": 409,
   "id": "50e7c789",
   "metadata": {},
   "outputs": [
    {
     "data": {
      "image/png": "[encoded data removed]",
      "text/plain": [
       "<Figure size 648x648 with 1 Axes>"
      ]
     },
     "metadata": {
      "needs_background": "light"
     },
     "output_type": "display_data"
    }
   ],
   "source": [
    "from sklearn.manifold import TSNE\n",
    "\n",
    "cmap_bold = ['#803260', '#3956b1', '#e614e3', '#64a0b9', '#6eab04', \n",
    "             '#467b5c', '#17fa19', '#926409', '#becdc7', '#f8acaf']\n",
    "tsne = TSNE(n_components=2)\n",
    "\n",
    "X_train_tsne = X_train_full [:2000]\n",
    "y_train_tsne = y_train_full [:2000]\n",
    "X_2D = tsne.fit_transform (X_train_tsne)\n",
    "\n",
    "plt.figure (figsize =(9,9))\n",
    "\n",
    "plt.scatter (X_2D[y_train_tsne==0, 0], X_2D[y_train_tsne==0, 1], c=cmap_bold[0], label=class_names[0])\n",
    "plt.scatter (X_2D[y_train_tsne==1, 0], X_2D[y_train_tsne==1, 1], c=cmap_bold[1], label=class_names[1])\n",
    "plt.scatter (X_2D[y_train_tsne==2, 0], X_2D[y_train_tsne==2, 1], c=cmap_bold[2], label=class_names[2])\n",
    "plt.scatter (X_2D[y_train_tsne==3, 0], X_2D[y_train_tsne==3, 1], c=cmap_bold[3], label=class_names[3])\n",
    "plt.scatter (X_2D[y_train_tsne==4, 0], X_2D[y_train_tsne==4, 1], c=cmap_bold[4], label=class_names[4])\n",
    "plt.scatter (X_2D[y_train_tsne==5, 0], X_2D[y_train_tsne==5, 1], c=cmap_bold[5], label=class_names[5])\n",
    "plt.scatter (X_2D[y_train_tsne==6, 0], X_2D[y_train_tsne==6, 1], c=cmap_bold[6], label=class_names[6])\n",
    "plt.scatter (X_2D[y_train_tsne==7, 0], X_2D[y_train_tsne==7, 1], c=cmap_bold[7], label=class_names[7])\n",
    "plt.scatter (X_2D[y_train_tsne==8, 0], X_2D[y_train_tsne==8, 1], c=cmap_bold[8], label=class_names[8])\n",
    "plt.scatter (X_2D[y_train_tsne==9, 0], X_2D[y_train_tsne==9, 1], c=cmap_bold[9], label=class_names[9])\n",
    "\n",
    "plt.legend()\n",
    "\n",
    "plt.show()"
   ]
  },
  {
   "cell_type": "markdown",
   "id": "98a3d1a3",
   "metadata": {},
   "source": [
    "Como se observa en el gráfico, al efectuar la separación de etiquetas por reconococimiento, el T-Sne tiende a confundir `Pullover` con `Shirt` y con `Coat`, que parecen similares fotografías en la muestra descrita anteriormente.\n",
    "\n",
    "Por otra parte, elementos como `Trouser`, `Bag`, `T-Shirt/Top`, `Sandal` y `Ankle boot`, tienden a ser correctamente identificados debido a que sus características físicas permiten distinguirse correctamente de los otros."
   ]
  },
  {
   "cell_type": "markdown",
   "id": "364be07e",
   "metadata": {},
   "source": [
    "### 3.2. Entrenando el modelo \\[1 pto\\]\n",
    "\n",
    "Ahora debes entrenar un modelo de `Random Forest` para predecir el tipo de prenda del _dataset_ anterior. Debes justificar la elección de los hiperparámetros (por ejemplo, prueba varias combinaciones y decide cuál es la mejor), y además, debes presentar la evaluación del modelo utilizando los datos de prueba que cargamos anteriormente (además de accuracy, puedes presentar una matriz de confusión). ¿Qué opinas del desempeño del predictor? ¿Crees que se puede mejorar?"
   ]
  },
  {
   "cell_type": "markdown",
   "id": "bdba4404-920d-49fa-b33c-93fea91bdda4",
   "metadata": {},
   "source": [
    "#### 3.2.1. Modelo con hiperparámetros (64 estimadores, hojas máx.: 16):"
   ]
  },
  {
   "cell_type": "code",
   "execution_count": 476,
   "id": "c711a345",
   "metadata": {},
   "outputs": [
    {
     "data": {
      "text/plain": [
       "RandomForestClassifier(max_leaf_nodes=16, n_estimators=64, n_jobs=-1,\n",
       "                       random_state=42)"
      ]
     },
     "execution_count": 476,
     "metadata": {},
     "output_type": "execute_result"
    }
   ],
   "source": [
    "from sklearn.ensemble import RandomForestClassifier\n",
    "\n",
    "rnd_clf16 = RandomForestClassifier(n_estimators=64, max_leaf_nodes=16, n_jobs=-1, random_state=42) # modificar el número de hiperparámetros.\n",
    "rnd_clf16.fit(X_train_full, y_train_full)"
   ]
  },
  {
   "cell_type": "code",
   "execution_count": 477,
   "id": "5ddc8c8d-f5e5-4526-b5bb-42e51ab269e4",
   "metadata": {},
   "outputs": [],
   "source": [
    "class_names = [\"T-shirt/top\", \"Trouser\", \"Pullover\", \"Dress\", \"Coat\",\n",
    "               \"Sandal\", \"Shirt\", \"Sneaker\", \"Bag\", \"Ankle boot\"]"
   ]
  },
  {
   "cell_type": "code",
   "execution_count": 478,
   "id": "db1f9836-ec71-4bf8-ac8c-04fe33dfe187",
   "metadata": {},
   "outputs": [
    {
     "data": {
      "text/plain": [
       "array([0, 1, 2, 3, 4, 5, 6, 7, 8, 9], dtype=uint8)"
      ]
     },
     "execution_count": 478,
     "metadata": {},
     "output_type": "execute_result"
    }
   ],
   "source": [
    "rnd_clf16.classes_"
   ]
  },
  {
   "cell_type": "code",
   "execution_count": 479,
   "id": "2cb72c91",
   "metadata": {},
   "outputs": [
    {
     "name": "stdout",
     "output_type": "stream",
     "text": [
      "              precision    recall  f1-score   support\n",
      "\n",
      "           0       0.74      0.78      0.76      1000\n",
      "           1       0.96      0.85      0.90      1000\n",
      "           2       0.57      0.67      0.62      1000\n",
      "           3       0.64      0.85      0.73      1000\n",
      "           4       0.51      0.76      0.61      1000\n",
      "           5       0.96      0.83      0.89      1000\n",
      "           6       0.65      0.02      0.04      1000\n",
      "           7       0.84      0.89      0.86      1000\n",
      "           8       0.87      0.92      0.89      1000\n",
      "           9       0.86      0.93      0.89      1000\n",
      "\n",
      "    accuracy                           0.75     10000\n",
      "   macro avg       0.76      0.75      0.72     10000\n",
      "weighted avg       0.76      0.75      0.72     10000\n",
      "\n"
     ]
    }
   ],
   "source": [
    "from sklearn.metrics import accuracy_score, classification_report\n",
    "\n",
    "y_pred_rf = rnd_clf16.predict(X_test)\n",
    "\n",
    "print(classification_report(y_test, y_pred_rf))"
   ]
  },
  {
   "cell_type": "markdown",
   "id": "a8fdee6f-79a3-4fb0-84fb-5dcdc8643c18",
   "metadata": {},
   "source": [
    "#### 3.2.2. Modelo con hiperparámetros (100 estimadores, hojas máx.: 100):"
   ]
  },
  {
   "cell_type": "code",
   "execution_count": 480,
   "id": "aad498f3-3229-4971-a24f-abb78eead7fb",
   "metadata": {},
   "outputs": [
    {
     "data": {
      "text/plain": [
       "RandomForestClassifier(max_leaf_nodes=100, n_jobs=-1, random_state=42)"
      ]
     },
     "execution_count": 480,
     "metadata": {},
     "output_type": "execute_result"
    }
   ],
   "source": [
    "from sklearn.ensemble import RandomForestClassifier\n",
    "\n",
    "rnd_clf100 = RandomForestClassifier(n_estimators=100, max_leaf_nodes=100, n_jobs=-1, random_state=42) # modificar el número de hiperparámetros.\n",
    "rnd_clf100.fit(X_train_full, y_train_full)"
   ]
  },
  {
   "cell_type": "code",
   "execution_count": 481,
   "id": "f3b1526b-880f-4ab8-9459-ff812c28c8ed",
   "metadata": {},
   "outputs": [
    {
     "name": "stdout",
     "output_type": "stream",
     "text": [
      "              precision    recall  f1-score   support\n",
      "\n",
      "           0       0.75      0.83      0.79      1000\n",
      "           1       0.99      0.93      0.96      1000\n",
      "           2       0.68      0.72      0.70      1000\n",
      "           3       0.80      0.88      0.84      1000\n",
      "           4       0.67      0.78      0.72      1000\n",
      "           5       0.97      0.92      0.94      1000\n",
      "           6       0.70      0.40      0.51      1000\n",
      "           7       0.90      0.90      0.90      1000\n",
      "           8       0.92      0.96      0.94      1000\n",
      "           9       0.90      0.94      0.92      1000\n",
      "\n",
      "    accuracy                           0.83     10000\n",
      "   macro avg       0.83      0.83      0.82     10000\n",
      "weighted avg       0.83      0.83      0.82     10000\n",
      "\n"
     ]
    }
   ],
   "source": [
    "from sklearn.metrics import accuracy_score, classification_report\n",
    "\n",
    "y_pred_rf = rnd_clf100.predict(X_test)\n",
    "\n",
    "print(classification_report(y_test, y_pred_rf))"
   ]
  },
  {
   "cell_type": "markdown",
   "id": "468bc695-1b98-4402-a1ef-cbcd41500c4d",
   "metadata": {},
   "source": [
    "#### 3.2.3. Modelo con hiperparámetros (200 estimadores, hojas máx.: 1000):"
   ]
  },
  {
   "cell_type": "code",
   "execution_count": 486,
   "id": "666b89fd-0033-4697-8a16-0f2977775ff1",
   "metadata": {},
   "outputs": [
    {
     "data": {
      "text/plain": [
       "RandomForestClassifier(max_leaf_nodes=1000, n_estimators=200, n_jobs=-1,\n",
       "                       random_state=42)"
      ]
     },
     "execution_count": 486,
     "metadata": {},
     "output_type": "execute_result"
    }
   ],
   "source": [
    "from sklearn.ensemble import RandomForestClassifier\n",
    "\n",
    "rnd_clf_1000 = RandomForestClassifier(n_estimators=200, max_leaf_nodes=1000, n_jobs=-1, random_state=42) # modificar el número de hiperparámetros.\n",
    "rnd_clf_1000.fit(X_train_full, y_train_full)"
   ]
  },
  {
   "cell_type": "code",
   "execution_count": 487,
   "id": "cfcf41e9-3580-4b22-9dab-6025e9535968",
   "metadata": {},
   "outputs": [
    {
     "name": "stdout",
     "output_type": "stream",
     "text": [
      "              precision    recall  f1-score   support\n",
      "\n",
      "           0       0.82      0.85      0.83      1000\n",
      "           1       0.99      0.95      0.97      1000\n",
      "           2       0.75      0.78      0.77      1000\n",
      "           3       0.85      0.90      0.88      1000\n",
      "           4       0.74      0.81      0.77      1000\n",
      "           5       0.97      0.95      0.96      1000\n",
      "           6       0.71      0.55      0.62      1000\n",
      "           7       0.92      0.94      0.93      1000\n",
      "           8       0.95      0.97      0.96      1000\n",
      "           9       0.94      0.95      0.95      1000\n",
      "\n",
      "    accuracy                           0.87     10000\n",
      "   macro avg       0.86      0.87      0.86     10000\n",
      "weighted avg       0.86      0.87      0.86     10000\n",
      "\n"
     ]
    }
   ],
   "source": [
    "from sklearn.metrics import accuracy_score, classification_report\n",
    "\n",
    "y_pred_rf = rnd_clf_1000.predict(X_test)\n",
    "\n",
    "print(classification_report(y_test, y_pred_rf))"
   ]
  },
  {
   "cell_type": "markdown",
   "id": "39384389-b7d4-4867-90bb-db25132d9847",
   "metadata": {},
   "source": [
    "De acuerdo a los resultados obtenidos, se puede señalar lo siguiente: el número máximo de hojas (max_leaf_nodes) afecta directamente al accuracy obtenido en cada reporte, pasando inicialmente de 16 hojas con un **75%** a un **87%**, con el aumento.\n",
    "\n",
    "Por lo anterior, se decidió mantener el último seteo de hiperparámetros propuesto."
   ]
  },
  {
   "cell_type": "code",
   "execution_count": 488,
   "id": "b774d15a-c8fb-4b05-95b3-2bd040ebcc0b",
   "metadata": {},
   "outputs": [
    {
     "data": {
      "text/plain": [
       "array([0.8701 , 0.8759 , 0.87455])"
      ]
     },
     "execution_count": 488,
     "metadata": {},
     "output_type": "execute_result"
    }
   ],
   "source": [
    "from sklearn.model_selection import cross_val_score\n",
    "\n",
    "cross_val_score(rnd_clf_1000, X_train_full, y_train_full, cv=3, scoring='accuracy')"
   ]
  },
  {
   "cell_type": "code",
   "execution_count": 489,
   "id": "55a7f10a",
   "metadata": {},
   "outputs": [
    {
     "data": {
      "text/plain": [
       "array([[849,   1,  11,  40,   4,   1,  79,   0,  15,   0],\n",
       "       [  2, 948,   7,  30,   3,   0,   8,   0,   2,   0],\n",
       "       [  9,   0, 781,  10, 140,   0,  54,   0,   6,   0],\n",
       "       [ 19,   3,  12, 902,  34,   0,  28,   0,   2,   0],\n",
       "       [  0,   1,  94,  39, 813,   0,  50,   0,   3,   0],\n",
       "       [  0,   0,   0,   1,   0, 949,   0,  34,   2,  14],\n",
       "       [161,   2, 128,  34, 101,   0, 552,   0,  22,   0],\n",
       "       [  0,   0,   0,   0,   0,  18,   0, 940,   0,  42],\n",
       "       [  0,   2,   6,   2,   5,   2,   8,   4, 969,   2],\n",
       "       [  0,   0,   0,   0,   0,   8,   1,  41,   2, 948]])"
      ]
     },
     "execution_count": 489,
     "metadata": {},
     "output_type": "execute_result"
    }
   ],
   "source": [
    "y_train_pred = cross_val_predict(rnd_clf_1000, X_train_full, y_train_full, cv=3)\n",
    "conf_mx = confusion_matrix(y_test, y_pred_rf)\n",
    "conf_mx"
   ]
  },
  {
   "cell_type": "code",
   "execution_count": 490,
   "id": "b9f6fb85-0e61-4866-b4f8-1d950ab34c72",
   "metadata": {},
   "outputs": [
    {
     "data": {
      "image/png": "[encoded data removed]",
      "text/plain": [
       "<Figure size 864x864 with 2 Axes>"
      ]
     },
     "metadata": {
      "needs_background": "light"
     },
     "output_type": "display_data"
    }
   ],
   "source": [
    "import matplotlib.pyplot as plt\n",
    "class_names = ['T-shirt/top', 'Trouser', 'Pullover', 'Dress', 'Coat',\n",
    "               'Sandal', 'Shirt', 'Sneaker', 'Bag', 'Ankle boot']\n",
    "\n",
    "fig = plt.figure(figsize =(12,12))\n",
    "ax = fig.add_subplot(111)\n",
    "cax = ax.matshow(conf_mx, cmap=plt.cm.gray)\n",
    "fig.colorbar(cax)\n",
    "\n",
    "xaxis = np.arange(len(class_names))\n",
    "ax.set_xticks(xaxis)\n",
    "ax.set_yticks(xaxis)\n",
    "ax.set_xticklabels(class_names)\n",
    "ax.set_yticklabels(class_names)\n",
    "\n",
    "plt.title ('Matriz de Confusión', fontsize=20)\n",
    "plt.ylabel ('Valores de Predicción', fontsize=16)\n",
    "plt.xlabel ('Valores verdaderos', fontsize=16)\n",
    "\n",
    "plt.show()"
   ]
  },
  {
   "cell_type": "markdown",
   "id": "19bea8f0-d3e2-4f11-afe1-ebab598f7c54",
   "metadata": {},
   "source": [
    "Mientras más instancias caen en un determinado casillero, más blanco el casillero. El casillero con el menor valor se lleva el color negro, y el de mayor valor el color blanco."
   ]
  },
  {
   "cell_type": "code",
   "execution_count": 491,
   "id": "fb49b78f-fa48-4418-99b9-9f12a8ab0993",
   "metadata": {},
   "outputs": [],
   "source": [
    "row_sums = conf_mx.sum(axis=1, keepdims=True)\n",
    "norm_conf_mx = conf_mx / row_sums"
   ]
  },
  {
   "cell_type": "code",
   "execution_count": 492,
   "id": "f87efc8d-45cf-454e-bafe-aa67f032c2ef",
   "metadata": {},
   "outputs": [
    {
     "data": {
      "image/png": "[encoded data removed]",
      "text/plain": [
       "<Figure size 864x864 with 2 Axes>"
      ]
     },
     "metadata": {
      "needs_background": "light"
     },
     "output_type": "display_data"
    }
   ],
   "source": [
    "import numpy as np\n",
    "\n",
    "np.fill_diagonal(norm_conf_mx, 0)\n",
    "\n",
    "fig = plt.figure(figsize =(12,12))\n",
    "ax = fig.add_subplot(111)\n",
    "cax = ax.matshow(norm_conf_mx, cmap=plt.cm.gray)\n",
    "fig.colorbar(cax)\n",
    "\n",
    "xaxis = np.arange(len(class_names))\n",
    "ax.set_xticks(xaxis)\n",
    "ax.set_yticks(xaxis)\n",
    "ax.set_xticklabels(class_names)\n",
    "ax.set_yticklabels(class_names)\n",
    "plt.title ('Matriz de Confusión Normalizada', fontsize=20)\n",
    "plt.ylabel ('Valores de Predicción', fontsize=16)\n",
    "plt.xlabel ('Valores verdaderos', fontsize=16)\n",
    "plt.show()"
   ]
  },
  {
   "cell_type": "markdown",
   "id": "6326f40c-cbdd-43f5-9055-cb06d5a1f41e",
   "metadata": {},
   "source": [
    "Al observar la matriz de confusión normalizada, podemos determinar donde existen las desinformaciones, esto es errores de clasificación.\n",
    "Al igual que en la utilización del T-Sne, se producen distorsiones al clasificar `Pull Over`, `Dress`, `Coat` y en menor medida `Shirt`.\n"
   ]
  },
  {
   "cell_type": "code",
   "execution_count": 3,
   "id": "5f80cfaf-dd43-442b-a92c-689cdb3e69a5",
   "metadata": {},
   "outputs": [
    {
     "name": "stdout",
     "output_type": "stream",
     "text": [
      "Requirement already satisfied: nbconvert[webpdf] in /Users/eduardo/.local/share/virtualenvs/eduardo-BbA8MaND/lib/python3.9/site-packages (6.1.0)\n",
      "Requirement already satisfied: pygments>=2.4.1 in /Users/eduardo/.local/share/virtualenvs/eduardo-BbA8MaND/lib/python3.9/site-packages (from nbconvert[webpdf]) (2.10.0)\n",
      "Requirement already satisfied: nbclient<0.6.0,>=0.5.0 in /Users/eduardo/.local/share/virtualenvs/eduardo-BbA8MaND/lib/python3.9/site-packages (from nbconvert[webpdf]) (0.5.4)\n",
      "Requirement already satisfied: entrypoints>=0.2.2 in /Users/eduardo/.local/share/virtualenvs/eduardo-BbA8MaND/lib/python3.9/site-packages (from nbconvert[webpdf]) (0.3)\n",
      "Requirement already satisfied: traitlets>=5.0 in /Users/eduardo/.local/share/virtualenvs/eduardo-BbA8MaND/lib/python3.9/site-packages (from nbconvert[webpdf]) (5.0.5)\n",
      "Requirement already satisfied: pandocfilters>=1.4.1 in /Users/eduardo/.local/share/virtualenvs/eduardo-BbA8MaND/lib/python3.9/site-packages (from nbconvert[webpdf]) (1.4.3)\n",
      "Requirement already satisfied: jinja2>=2.4 in /Users/eduardo/.local/share/virtualenvs/eduardo-BbA8MaND/lib/python3.9/site-packages (from nbconvert[webpdf]) (3.0.1)\n",
      "Requirement already satisfied: jupyterlab-pygments in /Users/eduardo/.local/share/virtualenvs/eduardo-BbA8MaND/lib/python3.9/site-packages (from nbconvert[webpdf]) (0.1.2)\n",
      "Requirement already satisfied: nbformat>=4.4 in /Users/eduardo/.local/share/virtualenvs/eduardo-BbA8MaND/lib/python3.9/site-packages (from nbconvert[webpdf]) (5.1.3)\n",
      "Requirement already satisfied: mistune<2,>=0.8.1 in /Users/eduardo/.local/share/virtualenvs/eduardo-BbA8MaND/lib/python3.9/site-packages (from nbconvert[webpdf]) (0.8.4)\n",
      "Requirement already satisfied: bleach in /Users/eduardo/.local/share/virtualenvs/eduardo-BbA8MaND/lib/python3.9/site-packages (from nbconvert[webpdf]) (4.0.0)\n",
      "Requirement already satisfied: defusedxml in /Users/eduardo/.local/share/virtualenvs/eduardo-BbA8MaND/lib/python3.9/site-packages (from nbconvert[webpdf]) (0.7.1)\n",
      "Requirement already satisfied: jupyter-core in /Users/eduardo/.local/share/virtualenvs/eduardo-BbA8MaND/lib/python3.9/site-packages (from nbconvert[webpdf]) (4.7.1)\n",
      "Requirement already satisfied: testpath in /Users/eduardo/.local/share/virtualenvs/eduardo-BbA8MaND/lib/python3.9/site-packages (from nbconvert[webpdf]) (0.5.0)\n",
      "Collecting pyppeteer==0.2.2\n",
      "  Downloading pyppeteer-0.2.2-py3-none-any.whl (145 kB)\n",
      "\u001b[K     |████████████████████████████████| 145 kB 6.9 MB/s eta 0:00:01\n",
      "\u001b[?25hCollecting websockets<9.0,>=8.1\n",
      "  Downloading websockets-8.1.tar.gz (58 kB)\n",
      "\u001b[K     |████████████████████████████████| 58 kB 9.1 MB/s  eta 0:00:01\n",
      "\u001b[?25hRequirement already satisfied: urllib3<2.0.0,>=1.25.8 in /Users/eduardo/.local/share/virtualenvs/eduardo-BbA8MaND/lib/python3.9/site-packages (from pyppeteer==0.2.2->nbconvert[webpdf]) (1.26.6)\n",
      "Collecting tqdm<5.0.0,>=4.42.1\n",
      "  Downloading tqdm-4.62.2-py2.py3-none-any.whl (76 kB)\n",
      "\u001b[K     |████████████████████████████████| 76 kB 6.5 MB/s  eta 0:00:01\n",
      "\u001b[?25hCollecting pyee<8.0.0,>=7.0.1\n",
      "  Downloading pyee-7.0.4-py2.py3-none-any.whl (12 kB)\n",
      "Collecting appdirs<2.0.0,>=1.4.3\n",
      "  Downloading appdirs-1.4.4-py2.py3-none-any.whl (9.6 kB)\n",
      "Requirement already satisfied: MarkupSafe>=2.0 in /Users/eduardo/.local/share/virtualenvs/eduardo-BbA8MaND/lib/python3.9/site-packages (from jinja2>=2.4->nbconvert[webpdf]) (2.0.1)\n",
      "Requirement already satisfied: nest-asyncio in /Users/eduardo/.local/share/virtualenvs/eduardo-BbA8MaND/lib/python3.9/site-packages (from nbclient<0.6.0,>=0.5.0->nbconvert[webpdf]) (1.5.1)\n",
      "Requirement already satisfied: jupyter-client>=6.1.5 in /Users/eduardo/.local/share/virtualenvs/eduardo-BbA8MaND/lib/python3.9/site-packages (from nbclient<0.6.0,>=0.5.0->nbconvert[webpdf]) (7.0.1)\n",
      "Requirement already satisfied: pyzmq>=13 in /Users/eduardo/.local/share/virtualenvs/eduardo-BbA8MaND/lib/python3.9/site-packages (from jupyter-client>=6.1.5->nbclient<0.6.0,>=0.5.0->nbconvert[webpdf]) (22.2.1)\n",
      "Requirement already satisfied: python-dateutil>=2.1 in /Users/eduardo/.local/share/virtualenvs/eduardo-BbA8MaND/lib/python3.9/site-packages (from jupyter-client>=6.1.5->nbclient<0.6.0,>=0.5.0->nbconvert[webpdf]) (2.8.2)\n",
      "Requirement already satisfied: tornado>=4.1 in /Users/eduardo/.local/share/virtualenvs/eduardo-BbA8MaND/lib/python3.9/site-packages (from jupyter-client>=6.1.5->nbclient<0.6.0,>=0.5.0->nbconvert[webpdf]) (6.1)\n",
      "Requirement already satisfied: jsonschema!=2.5.0,>=2.4 in /Users/eduardo/.local/share/virtualenvs/eduardo-BbA8MaND/lib/python3.9/site-packages (from nbformat>=4.4->nbconvert[webpdf]) (3.2.0)\n",
      "Requirement already satisfied: ipython-genutils in /Users/eduardo/.local/share/virtualenvs/eduardo-BbA8MaND/lib/python3.9/site-packages (from nbformat>=4.4->nbconvert[webpdf]) (0.2.0)\n",
      "Requirement already satisfied: setuptools in /Users/eduardo/.local/share/virtualenvs/eduardo-BbA8MaND/lib/python3.9/site-packages (from jsonschema!=2.5.0,>=2.4->nbformat>=4.4->nbconvert[webpdf]) (57.4.0)\n",
      "Requirement already satisfied: six>=1.11.0 in /Users/eduardo/.local/share/virtualenvs/eduardo-BbA8MaND/lib/python3.9/site-packages (from jsonschema!=2.5.0,>=2.4->nbformat>=4.4->nbconvert[webpdf]) (1.16.0)\n",
      "Requirement already satisfied: pyrsistent>=0.14.0 in /Users/eduardo/.local/share/virtualenvs/eduardo-BbA8MaND/lib/python3.9/site-packages (from jsonschema!=2.5.0,>=2.4->nbformat>=4.4->nbconvert[webpdf]) (0.18.0)\n",
      "Requirement already satisfied: attrs>=17.4.0 in /Users/eduardo/.local/share/virtualenvs/eduardo-BbA8MaND/lib/python3.9/site-packages (from jsonschema!=2.5.0,>=2.4->nbformat>=4.4->nbconvert[webpdf]) (21.2.0)\n",
      "Requirement already satisfied: packaging in /Users/eduardo/.local/share/virtualenvs/eduardo-BbA8MaND/lib/python3.9/site-packages (from bleach->nbconvert[webpdf]) (21.0)\n",
      "Requirement already satisfied: webencodings in /Users/eduardo/.local/share/virtualenvs/eduardo-BbA8MaND/lib/python3.9/site-packages (from bleach->nbconvert[webpdf]) (0.5.1)\n",
      "Requirement already satisfied: pyparsing>=2.0.2 in /Users/eduardo/.local/share/virtualenvs/eduardo-BbA8MaND/lib/python3.9/site-packages (from packaging->bleach->nbconvert[webpdf]) (2.4.7)\n",
      "Building wheels for collected packages: websockets\n",
      "  Building wheel for websockets (setup.py) ... \u001b[?25ldone\n",
      "\u001b[?25h  Created wheel for websockets: filename=websockets-8.1-cp39-cp39-macosx_10_9_universal2.whl size=68291 sha256=fcfd7b81c69e2baf0fc87a08c6471a018d22b693ef83692849470d73adc8b7ab\n",
      "  Stored in directory: /Users/eduardo/Library/Caches/pip/wheels/d8/b9/a0/b97b211aeda2ebd6ac2e43fc300d308dbf1f9df520ed390cae\n",
      "Successfully built websockets\n",
      "Installing collected packages: websockets, tqdm, pyee, appdirs, pyppeteer\n",
      "Successfully installed appdirs-1.4.4 pyee-7.0.4 pyppeteer-0.2.2 tqdm-4.62.2 websockets-8.1\n",
      "Note: you may need to restart the kernel to use updated packages.\n"
     ]
    }
   ],
   "source": [
    "pip install nbconvert[webpdf]"
   ]
  },
  {
   "cell_type": "code",
   "execution_count": 5,
   "id": "7b2dfadc",
   "metadata": {},
   "outputs": [],
   "source": [
    "import nbconvert"
   ]
  },
  {
   "cell_type": "code",
   "execution_count": null,
   "id": "c859a41c",
   "metadata": {},
   "outputs": [],
   "source": []
  }
 ],
 "metadata": {
  "kernelspec": {
   "display_name": "Python 3 (ipykernel)",
   "language": "python",
   "name": "python3"
  },
  "language_info": {
   "codemirror_mode": {
    "name": "ipython",
    "version": 3
   },
   "file_extension": ".py",
   "mimetype": "text/x-python",
   "name": "python",
   "nbconvert_exporter": "python",
   "pygments_lexer": "ipython3",
   "version": "3.9.6"
  }
 },
 "nbformat": 4,
 "nbformat_minor": 5
}
