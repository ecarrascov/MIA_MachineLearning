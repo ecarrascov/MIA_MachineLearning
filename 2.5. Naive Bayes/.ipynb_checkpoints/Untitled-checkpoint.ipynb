{
 "cells": [
  {
   "cell_type": "markdown",
   "id": "a37558da-35c8-4fe2-8acd-74659c658791",
   "metadata": {},
   "source": [
    "# Naive Bayes en Scikit Learn\n",
    "\n",
    "En este _notebook_ vamos a aprender a trabajar con el modelo **Multinomial Naive Bayes** en Scikit Learn."
   ]
  },
  {
   "cell_type": "code",
   "execution_count": 9,
   "id": "30f1e319-686b-4ad8-a08b-2b02fb5f1c64",
   "metadata": {},
   "outputs": [
    {
     "name": "stdout",
     "output_type": "stream",
     "text": [
      "Num. Spam: 500 - Num. Ham: 2800\n"
     ]
    }
   ],
   "source": [
    "from sklearn.feature_extraction.text import CountVectorizer\n",
    "import glob\n",
    "\n",
    "PATH_MAILS = 'mails-raw/*/*'\n",
    "\n",
    "mails = []\n",
    "answers = []\n",
    "\n",
    "for filename in glob.glob(PATH_MAILS):\n",
    "    # Checkeamos si es spam o no\n",
    "    is_spam = 'ham' not in filename\n",
    "    \n",
    "    # Ignoramos los posibles errores al abrir un archivo\n",
    "    with open(filename, errors='ignore') as mail_file:\n",
    "        for line in mail_file:\n",
    "            if line.startswith(\"Subject:\"):\n",
    "                # Hacemos strip desde la izquierda\n",
    "                subject = line.lstrip(\"Subject: \")\n",
    "                mails.append(subject.strip())\n",
    "                if is_spam:\n",
    "                    answers.append(1)\n",
    "                else:\n",
    "                    ansewrs.append(0)\n",
    "                break\n",
    "                \n",
    "print(f\"Num. Spam: {len(spam_mails)} - Num. Ham: {len(ham_mails)}\")"
   ]
  },
  {
   "cell_type": "markdown",
   "id": "b97104b2-49e7-434d-9d91-57fb0e346c80",
   "metadata": {},
   "source": [
    "Ahora vamos a unir el dataset y separarlo en una parte de **entrenamiento** y otra de **prueba**."
   ]
  },
  {
   "cell_type": "code",
   "execution_count": 11,
   "id": "ff3cb72a-6680-466e-b4cc-1db55f0452a4",
   "metadata": {},
   "outputs": [
    {
     "data": {
      "text/plain": [
       "CountVectorizer()"
      ]
     },
     "execution_count": 11,
     "metadata": {},
     "output_type": "execute_result"
    }
   ],
   "source": [
    "from sklearn.cross_validation import train_test_split\n",
    "\n",
    "\n",
    "\n",
    "X_train, X_test, y_train, y_test = train_test_split(X, y)\n",
    "\n",
    "vect = CountVectorizer()\n",
    "vect.fit(spam_mails)\n",
    "vect"
   ]
  },
  {
   "cell_type": "code",
   "execution_count": 14,
   "id": "892acb23-82c8-40b7-bdb0-49986867f244",
   "metadata": {},
   "outputs": [
    {
     "name": "stdout",
     "output_type": "stream",
     "text": [
      "CountVectorizer()\n"
     ]
    }
   ],
   "source": [
    "print(vect)"
   ]
  },
  {
   "cell_type": "code",
   "execution_count": null,
   "id": "c118f845-5cb8-4bb1-95d2-2ce3ac066e5d",
   "metadata": {},
   "outputs": [],
   "source": []
  }
 ],
 "metadata": {
  "kernelspec": {
   "display_name": "Python 3",
   "language": "python",
   "name": "python3"
  },
  "language_info": {
   "codemirror_mode": {
    "name": "ipython",
    "version": 3
   },
   "file_extension": ".py",
   "mimetype": "text/x-python",
   "name": "python",
   "nbconvert_exporter": "python",
   "pygments_lexer": "ipython3",
   "version": "3.9.5"
  }
 },
 "nbformat": 4,
 "nbformat_minor": 5
}
