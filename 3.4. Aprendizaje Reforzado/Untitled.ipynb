{
 "cells": [
  {
   "cell_type": "code",
   "execution_count": 1,
   "id": "d64b6c6c",
   "metadata": {
    "ExecuteTime": {
     "end_time": "2022-07-20T17:59:37.905142Z",
     "start_time": "2022-07-20T17:59:36.266378Z"
    }
   },
   "outputs": [],
   "source": [
    "import numpy as np\n",
    "import pandas as pd\n",
    "from numpy.random import shuffle\n",
    "from numpy.random import randint\n",
    "from random import choice\n",
    "%matplotlib notebook\n",
    "import matplotlib.pyplot as plt"
   ]
  },
  {
   "cell_type": "code",
   "execution_count": 2,
   "id": "101e9ee8",
   "metadata": {
    "ExecuteTime": {
     "end_time": "2022-07-20T18:00:35.073979Z",
     "start_time": "2022-07-20T18:00:35.056211Z"
    }
   },
   "outputs": [],
   "source": [
    "class Point():\n",
    " \n",
    "    COUNT = 0\n",
    " \n",
    "    def __init__(self, x, y):\n",
    "        self.X = x\n",
    "        self.Y = y\n",
    " \n",
    "    def __str__(self):\n",
    "        return \"Point(%s,%s)\"%(self.X, self.Y) \n",
    " \n",
    "    def distance(self, other):\n",
    "        dx = self.X - other.X\n",
    "        dy = self.Y - other.Y\n",
    "        return np.sqrt(dx**2 + dy**2)\n",
    "    \n",
    "    def __eq__(self, other): \n",
    "        return self.X == other.X and self.Y == other.Y\n",
    "    \n",
    "class Individu():\n",
    " \n",
    "    def __init__(self, init = False, map_point = []):\n",
    "        self.score = 0\n",
    "        self.route = []\n",
    "        if init :\n",
    "            shuffle(map_point)\n",
    "            self.set_route(map_point)\n",
    "\n",
    "    def set_route(self, map_point) :\n",
    "        \n",
    "        self.route = map_point\n",
    "        for p in range(len(map_point) - 1) :\n",
    "            self.score += map_point[p].distance(map_point[p+1])\n",
    "\n",
    "    def croisement(self, other):\n",
    "        child = Individu()\n",
    "        # je prends la moitier de moi-même.\n",
    "        half = int(np.floor(len(self.route)/2))\n",
    "        first_segment = self.route[:half]\n",
    "        last_segment  = []\n",
    "        # je complète avec l'autre\n",
    "        for i in range(len(self.route)) :\n",
    "            if other.route[i] not in first_segment :\n",
    "                last_segment.append(other.route[i])\n",
    "        child.set_route(first_segment + last_segment)\n",
    "        return child\n",
    " \n",
    "    def show_me(self):\n",
    "        plt.figure(figsize=(5,5))\n",
    "        xpoint=[]\n",
    "        ypoint=[]\n",
    "        for i,point in enumerate(self.route) :\n",
    "            xpoint.append(point.X)\n",
    "            ypoint.append(point.Y)\n",
    "            x,y=point.X, point.Y\n",
    "            plt.scatter(x,y)\n",
    "            plt.text(x,y,'A'+str(i))\n",
    "        plt.plot(xpoint,ypoint)\n",
    "        plt.show()"
   ]
  },
  {
   "cell_type": "code",
   "execution_count": 3,
   "id": "d923dace",
   "metadata": {
    "ExecuteTime": {
     "end_time": "2022-07-20T18:00:41.636460Z",
     "start_time": "2022-07-20T18:00:41.620359Z"
    }
   },
   "outputs": [],
   "source": [
    "population=[]\n",
    "a_map=[]\n",
    "# initialisation des points de la carte.\n",
    "# prend en paramètre un nombre de points.\n",
    "def init_map(nb):\n",
    "    global a_map\n",
    "    del a_map[:]\n",
    "    for i in range(nb):\n",
    "        p = Point(randint(1, 300), randint(1, 300))\n",
    "        a_map.append(p)\n",
    "# initialisation de la population.\n",
    "# prend en paramètre le nombre d'individus à créer.\n",
    "def init_pop(nb, map_point):\n",
    "    global population\n",
    "    del population[:]\n",
    "    for i in range(nb):\n",
    "        i = Individu(True, map_point.copy())\n",
    "        population.append(i)\n",
    "\n",
    "# fonction qui sert à trier les individus suivant leur score.\n",
    "# utile pour trouver les meilleurs.\n",
    "def selection(pop):\n",
    "    pop.sort(key=lambda x: x.score, reverse=False)\n",
    "\n",
    "def croisement(pop,nbtop):\n",
    "    new_pop = []\n",
    "    best_pop = population[0:nbtop]\n",
    "    for i in range(len(pop)-nbtop) :\n",
    "        new_pop.append(choice(best_pop).croisement(choice(population[nbtop:])))\n",
    "    return new_pop + best_pop\n",
    "\n",
    "def play(nb_generation, nb_point,nbpop,nbtop,seed) :\n",
    "    np.random.seed(seed)\n",
    "    init_map(nb_point)\n",
    "    init_pop(nbpop, a_map)\n",
    "    best=[]\n",
    "    result=0\n",
    "    for i in range(nb_generation) :\n",
    "        global population\n",
    "        selection(population)\n",
    "        population = croisement(population,nbtop)\n",
    "        best_score = population[0].score\n",
    "        best.append(best_score)\n",
    "        if best_score<1000:\n",
    "            print ('Meilleur score : ' + str(population[0].score))\n",
    "            plt.title(\"Score en fonction de la génération\")\n",
    "            plt.plot(best)\n",
    "            population[0].show_me()\n",
    "            break"
   ]
  },
  {
   "cell_type": "code",
   "execution_count": 4,
   "id": "1f05f860",
   "metadata": {
    "ExecuteTime": {
     "end_time": "2022-07-20T18:00:44.023948Z",
     "start_time": "2022-07-20T18:00:43.839561Z"
    }
   },
   "outputs": [],
   "source": [
    "play(nb_generation=40,nbpop=100,nb_point=10,nbtop=20,seed=10)"
   ]
  },
  {
   "cell_type": "code",
   "execution_count": null,
   "id": "17d98113",
   "metadata": {},
   "outputs": [],
   "source": []
  }
 ],
 "metadata": {
  "kernelspec": {
   "display_name": "Python 3 (ipykernel)",
   "language": "python",
   "name": "python3"
  },
  "language_info": {
   "codemirror_mode": {
    "name": "ipython",
    "version": 3
   },
   "file_extension": ".py",
   "mimetype": "text/x-python",
   "name": "python",
   "nbconvert_exporter": "python",
   "pygments_lexer": "ipython3",
   "version": "3.9.6"
  },
  "toc": {
   "base_numbering": 1,
   "nav_menu": {},
   "number_sections": true,
   "sideBar": true,
   "skip_h1_title": false,
   "title_cell": "Table of Contents",
   "title_sidebar": "Contents",
   "toc_cell": false,
   "toc_position": {},
   "toc_section_display": true,
   "toc_window_display": false
  },
  "varInspector": {
   "cols": {
    "lenName": 16,
    "lenType": 16,
    "lenVar": 40
   },
   "kernels_config": {
    "python": {
     "delete_cmd_postfix": "",
     "delete_cmd_prefix": "del ",
     "library": "var_list.py",
     "varRefreshCmd": "print(var_dic_list())"
    },
    "r": {
     "delete_cmd_postfix": ") ",
     "delete_cmd_prefix": "rm(",
     "library": "var_list.r",
     "varRefreshCmd": "cat(var_dic_list()) "
    }
   },
   "types_to_exclude": [
    "module",
    "function",
    "builtin_function_or_method",
    "instance",
    "_Feature"
   ],
   "window_display": false
  }
 },
 "nbformat": 4,
 "nbformat_minor": 5
}
